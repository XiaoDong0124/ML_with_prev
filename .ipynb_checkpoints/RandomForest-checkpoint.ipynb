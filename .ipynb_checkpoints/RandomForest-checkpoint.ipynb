{
 "cells": [
  {
   "cell_type": "code",
   "execution_count": 1,
   "id": "b724e2ea-c06e-48eb-999b-47d8a59a7c92",
   "metadata": {},
   "outputs": [],
   "source": [
    "import pandas as pd\n",
    "import numpy as np\n",
    "#df_org=pd.read_csv(filepath+\"application_train_merge_clear_nomissing .csv\")\n",
    "df_org=pd.read_csv(\"application_train_merge_clear_nomissing_with_ylabel_dy.csv\")"
   ]
  },
  {
   "cell_type": "code",
   "execution_count": 15,
   "id": "0ee66c6c-7c44-4755-b5df-26b1f8bca37f",
   "metadata": {},
   "outputs": [],
   "source": [
    "df=df_org"
   ]
  },
  {
   "cell_type": "code",
   "execution_count": 3,
   "id": "56e83230-942d-428e-92bc-646cb6da2889",
   "metadata": {},
   "outputs": [],
   "source": [
    "y_=[]#找出 違約人的索引\n",
    "for i in (df[df[\"simple_labelx\"]!=0].index):\n",
    "  y_.append(i)\n",
    "y_1=[] #找出沒違約人的索引\n",
    "for i in (df[df[\"simple_labelx\"]==0].index):\n",
    "  y_1.append(i)\n",
    "df_split=df.loc[y_]\n",
    "df_split0=df.loc[y_1]\n",
    "df_tar1=df_split.reset_index()\n",
    "df_tar0=df_split0.reset_index()\n",
    "df_tar_e=df_tar0.iloc[:57886,:] #分成同等分\n",
    "dfe=pd.concat([df_tar_e,df_tar1],ignore_index=True,axis=0)"
   ]
  },
  {
   "cell_type": "code",
   "execution_count": 68,
   "id": "6cf1fc64-e176-4e95-82e4-c7fb9fab857d",
   "metadata": {},
   "outputs": [],
   "source": [
    "## RFE randomforest選出來的前十個(從全部特徵裡選出來的)with prev\n",
    "df_X = dfe[['DAYS_LAST_PHONE_CHANGE', 'PREV_ANNUITY_median', 'PREV_APPLICATION_max',\n",
    "       'PREV_CREDIT_max', 'PREV_CREDIT_sum', 'DAYS_DECISION_median',\n",
    "       'CONTRACT_Cash_loans', 'CONTRACT_Consumer_loans', 'PORTFOLIO_Cash',\n",
    "       'YIELD_high']]\n",
    "df_y = dfe['simple_labelx']"
   ]
  },
  {
   "cell_type": "code",
   "execution_count": 5,
   "id": "9642709b-1de9-4548-a819-c9d74125359f",
   "metadata": {},
   "outputs": [],
   "source": [
    "## RFE randomforest選出來的前十個(從全部特徵裡選出來的)\n",
    "df_X = dfe[['NAME_EDUCATION_TYPE', 'DAYS_BIRTH', 'DAYS_EMPLOYED', 'DAYS_ID_PUBLISH',\n",
    "       'OBS_60_CNT_SOCIAL_CIRCLE', 'DEF_60_CNT_SOCIAL_CIRCLE',\n",
    "       'DAYS_LAST_PHONE_CHANGE', 'AMT_REQ_CREDIT_BUREAU_YEAR',\n",
    "       'NAME_CONTRACT_TYPE_Cash loans', 'NAME_CONTRACT_TYPE_Revolving loans']]\n",
    "df_y = dfe['simple_labelx']"
   ]
  },
  {
   "cell_type": "code",
   "execution_count": 102,
   "id": "2a713cd1-752c-46b9-acb6-77d28c320bf2",
   "metadata": {},
   "outputs": [],
   "source": [
    "## RFE dicisionTree選出來的前十個(從全部特徵裡選出來的)with prev\n",
    "df_X=dfe[['DAYS_BIRTH', 'DAYS_EMPLOYED', 'DAYS_REGISTRATION', 'DAYS_ID_PUBLISH',\n",
    "       'DAYS_LAST_PHONE_CHANGE', 'PREV_ANNUITY_median', 'PREV_CREDIT_max',\n",
    "       'PREV_CREDIT_sum', 'PREV_CRE/APP_max', 'DAYS_DECISION_median']]\n",
    "df_y = dfe['simple_labelx']"
   ]
  },
  {
   "cell_type": "code",
   "execution_count": null,
   "id": "51a74278-66ee-44e6-9bcf-9077341c39e8",
   "metadata": {},
   "outputs": [],
   "source": [
    "'DAYS_LAST_PHONE_CHANGE' , 'AMT_REQ_CREDIT_BUREAU_YEAR' , 'DAYS_BIRTH' , 'DAYS_EMPLOYED' , 'DAYS_ID_PUBLISH'"
   ]
  },
  {
   "cell_type": "code",
   "execution_count": 4,
   "id": "0536fae9-34ba-4b1e-bff8-3605206ac234",
   "metadata": {},
   "outputs": [
    {
     "data": {
      "text/html": [
       "<div>\n",
       "<style scoped>\n",
       "    .dataframe tbody tr th:only-of-type {\n",
       "        vertical-align: middle;\n",
       "    }\n",
       "\n",
       "    .dataframe tbody tr th {\n",
       "        vertical-align: top;\n",
       "    }\n",
       "\n",
       "    .dataframe thead th {\n",
       "        text-align: right;\n",
       "    }\n",
       "</style>\n",
       "<table border=\"1\" class=\"dataframe\">\n",
       "  <thead>\n",
       "    <tr style=\"text-align: right;\">\n",
       "      <th></th>\n",
       "      <th>index</th>\n",
       "      <th>Unnamed: 0.1</th>\n",
       "      <th>Unnamed: 0</th>\n",
       "      <th>SK_ID_CURR</th>\n",
       "      <th>TARGET</th>\n",
       "      <th>CNT_CHILDREN</th>\n",
       "      <th>AMT_INCOME_TOTAL</th>\n",
       "      <th>NAME_EDUCATION_TYPE</th>\n",
       "      <th>DAYS_BIRTH</th>\n",
       "      <th>DAYS_EMPLOYED</th>\n",
       "      <th>...</th>\n",
       "      <th>PORTFOLIO_Cash</th>\n",
       "      <th>PORTFOLIO_POS</th>\n",
       "      <th>YIELD_high</th>\n",
       "      <th>YIELD_low</th>\n",
       "      <th>YIELD_middle</th>\n",
       "      <th>HOUR_APPR_PROCESS_START_y</th>\n",
       "      <th>WEEKDAY_APPR_PROCESS_START</th>\n",
       "      <th>NAME_TYPE_SUITE</th>\n",
       "      <th>simple_labelx</th>\n",
       "      <th>scores</th>\n",
       "    </tr>\n",
       "  </thead>\n",
       "  <tbody>\n",
       "    <tr>\n",
       "      <th>0</th>\n",
       "      <td>0</td>\n",
       "      <td>0</td>\n",
       "      <td>0</td>\n",
       "      <td>100002</td>\n",
       "      <td>1.0</td>\n",
       "      <td>0.0</td>\n",
       "      <td>202500.0</td>\n",
       "      <td>1.0</td>\n",
       "      <td>-9461.0</td>\n",
       "      <td>-637.0</td>\n",
       "      <td>...</td>\n",
       "      <td>0.000000</td>\n",
       "      <td>1.000000</td>\n",
       "      <td>0.000000</td>\n",
       "      <td>1.000000</td>\n",
       "      <td>0.000000</td>\n",
       "      <td>9.0</td>\n",
       "      <td>6.0</td>\n",
       "      <td>0.0</td>\n",
       "      <td>0.0</td>\n",
       "      <td>96</td>\n",
       "    </tr>\n",
       "    <tr>\n",
       "      <th>1</th>\n",
       "      <td>1</td>\n",
       "      <td>1</td>\n",
       "      <td>1</td>\n",
       "      <td>100003</td>\n",
       "      <td>0.0</td>\n",
       "      <td>0.0</td>\n",
       "      <td>270000.0</td>\n",
       "      <td>3.0</td>\n",
       "      <td>-16765.0</td>\n",
       "      <td>-1188.0</td>\n",
       "      <td>...</td>\n",
       "      <td>0.333333</td>\n",
       "      <td>0.666667</td>\n",
       "      <td>0.000000</td>\n",
       "      <td>0.333333</td>\n",
       "      <td>0.666667</td>\n",
       "      <td>12.0</td>\n",
       "      <td>5.0</td>\n",
       "      <td>1.0</td>\n",
       "      <td>0.0</td>\n",
       "      <td>100</td>\n",
       "    </tr>\n",
       "    <tr>\n",
       "      <th>2</th>\n",
       "      <td>2</td>\n",
       "      <td>2</td>\n",
       "      <td>2</td>\n",
       "      <td>100004</td>\n",
       "      <td>0.0</td>\n",
       "      <td>0.0</td>\n",
       "      <td>67500.0</td>\n",
       "      <td>1.0</td>\n",
       "      <td>-19046.0</td>\n",
       "      <td>-225.0</td>\n",
       "      <td>...</td>\n",
       "      <td>0.000000</td>\n",
       "      <td>1.000000</td>\n",
       "      <td>0.000000</td>\n",
       "      <td>0.000000</td>\n",
       "      <td>1.000000</td>\n",
       "      <td>5.0</td>\n",
       "      <td>5.0</td>\n",
       "      <td>0.0</td>\n",
       "      <td>0.0</td>\n",
       "      <td>100</td>\n",
       "    </tr>\n",
       "    <tr>\n",
       "      <th>3</th>\n",
       "      <td>3</td>\n",
       "      <td>3</td>\n",
       "      <td>3</td>\n",
       "      <td>100006</td>\n",
       "      <td>0.0</td>\n",
       "      <td>0.0</td>\n",
       "      <td>135000.0</td>\n",
       "      <td>1.0</td>\n",
       "      <td>-19005.0</td>\n",
       "      <td>-3039.0</td>\n",
       "      <td>...</td>\n",
       "      <td>0.500000</td>\n",
       "      <td>0.333333</td>\n",
       "      <td>0.333333</td>\n",
       "      <td>0.333333</td>\n",
       "      <td>0.166667</td>\n",
       "      <td>15.0</td>\n",
       "      <td>4.0</td>\n",
       "      <td>0.0</td>\n",
       "      <td>0.0</td>\n",
       "      <td>96</td>\n",
       "    </tr>\n",
       "    <tr>\n",
       "      <th>4</th>\n",
       "      <td>4</td>\n",
       "      <td>4</td>\n",
       "      <td>4</td>\n",
       "      <td>100007</td>\n",
       "      <td>0.0</td>\n",
       "      <td>0.0</td>\n",
       "      <td>121500.0</td>\n",
       "      <td>1.0</td>\n",
       "      <td>-19932.0</td>\n",
       "      <td>-3038.0</td>\n",
       "      <td>...</td>\n",
       "      <td>0.666667</td>\n",
       "      <td>0.333333</td>\n",
       "      <td>0.500000</td>\n",
       "      <td>0.000000</td>\n",
       "      <td>0.500000</td>\n",
       "      <td>13.0</td>\n",
       "      <td>7.0</td>\n",
       "      <td>0.0</td>\n",
       "      <td>0.0</td>\n",
       "      <td>88</td>\n",
       "    </tr>\n",
       "  </tbody>\n",
       "</table>\n",
       "<p>5 rows × 139 columns</p>\n",
       "</div>"
      ],
      "text/plain": [
       "   index  Unnamed: 0.1  Unnamed: 0  SK_ID_CURR  TARGET  CNT_CHILDREN  \\\n",
       "0      0             0           0      100002     1.0           0.0   \n",
       "1      1             1           1      100003     0.0           0.0   \n",
       "2      2             2           2      100004     0.0           0.0   \n",
       "3      3             3           3      100006     0.0           0.0   \n",
       "4      4             4           4      100007     0.0           0.0   \n",
       "\n",
       "   AMT_INCOME_TOTAL  NAME_EDUCATION_TYPE  DAYS_BIRTH  DAYS_EMPLOYED  ...  \\\n",
       "0          202500.0                  1.0     -9461.0         -637.0  ...   \n",
       "1          270000.0                  3.0    -16765.0        -1188.0  ...   \n",
       "2           67500.0                  1.0    -19046.0         -225.0  ...   \n",
       "3          135000.0                  1.0    -19005.0        -3039.0  ...   \n",
       "4          121500.0                  1.0    -19932.0        -3038.0  ...   \n",
       "\n",
       "   PORTFOLIO_Cash  PORTFOLIO_POS  YIELD_high  YIELD_low  YIELD_middle  \\\n",
       "0        0.000000       1.000000    0.000000   1.000000      0.000000   \n",
       "1        0.333333       0.666667    0.000000   0.333333      0.666667   \n",
       "2        0.000000       1.000000    0.000000   0.000000      1.000000   \n",
       "3        0.500000       0.333333    0.333333   0.333333      0.166667   \n",
       "4        0.666667       0.333333    0.500000   0.000000      0.500000   \n",
       "\n",
       "   HOUR_APPR_PROCESS_START_y  WEEKDAY_APPR_PROCESS_START  NAME_TYPE_SUITE  \\\n",
       "0                        9.0                         6.0              0.0   \n",
       "1                       12.0                         5.0              1.0   \n",
       "2                        5.0                         5.0              0.0   \n",
       "3                       15.0                         4.0              0.0   \n",
       "4                       13.0                         7.0              0.0   \n",
       "\n",
       "   simple_labelx  scores  \n",
       "0            0.0      96  \n",
       "1            0.0     100  \n",
       "2            0.0     100  \n",
       "3            0.0      96  \n",
       "4            0.0      88  \n",
       "\n",
       "[5 rows x 139 columns]"
      ]
     },
     "execution_count": 4,
     "metadata": {},
     "output_type": "execute_result"
    }
   ],
   "source": [
    "dfe.head()"
   ]
  },
  {
   "cell_type": "code",
   "execution_count": 16,
   "id": "fefdbff9-9caa-4af3-b973-ef34529fce07",
   "metadata": {},
   "outputs": [],
   "source": [
    "from sklearn.model_selection import train_test_split\n",
    "X , y = df.iloc[:,5:-3] , df.iloc[:,-2]\n",
    "#X , y = df_X  , df_y\n",
    "X_train, X_test, y_train, y_test =\\\n",
    "    train_test_split(X, y, \n",
    "                     test_size=0.1,#超過10萬9,1分比較好 \n",
    "                     #random_state=0, \n",
    "                     stratify=y)"
   ]
  },
  {
   "cell_type": "code",
   "execution_count": 6,
   "id": "d7735590-b458-45f5-b08d-38823d6ccc47",
   "metadata": {},
   "outputs": [
    {
     "data": {
      "text/plain": [
       "17845     0.0\n",
       "7636      0.0\n",
       "5339      0.0\n",
       "73397     1.0\n",
       "74574     1.0\n",
       "         ... \n",
       "103467    1.0\n",
       "57591     0.0\n",
       "38376     0.0\n",
       "63867     1.0\n",
       "64318     1.0\n",
       "Name: simple_labelx, Length: 11578, dtype: float64"
      ]
     },
     "execution_count": 6,
     "metadata": {},
     "output_type": "execute_result"
    }
   ],
   "source": [
    " y_test"
   ]
  },
  {
   "cell_type": "markdown",
   "id": "a0d53282-1e6d-45b9-b4d1-834954da491c",
   "metadata": {},
   "source": [
    "## Decision Trees"
   ]
  },
  {
   "cell_type": "code",
   "execution_count": 7,
   "id": "158f36dd-f917-4afe-a81a-928f2d793645",
   "metadata": {},
   "outputs": [
    {
     "name": "stdout",
     "output_type": "stream",
     "text": [
      "[1. 0. 1. ... 0. 1. 1.]\n",
      "17845     0.0\n",
      "7636      0.0\n",
      "5339      0.0\n",
      "73397     1.0\n",
      "74574     1.0\n",
      "         ... \n",
      "103467    1.0\n",
      "57591     0.0\n",
      "38376     0.0\n",
      "63867     1.0\n",
      "64318     1.0\n",
      "Name: simple_labelx, Length: 11578, dtype: float64\n"
     ]
    }
   ],
   "source": [
    "from sklearn import tree\n",
    "\n",
    "# 建立分類器\n",
    "clf = tree.DecisionTreeClassifier(random_state=0, max_depth=6)\n",
    "X_clf = clf.fit(X_train, y_train)\n",
    "\n",
    "# 預測\n",
    "y_test_predicted = X_clf.predict(X_test)\n",
    "print(y_test_predicted)\n",
    "\n",
    "# 標準答案\n",
    "print(y_test)"
   ]
  },
  {
   "cell_type": "code",
   "execution_count": 111,
   "id": "a0bfe397-1ab6-415d-bab0-7dd03cfe1d57",
   "metadata": {},
   "outputs": [
    {
     "name": "stdout",
     "output_type": "stream",
     "text": [
      "0.6577129037830368\n"
     ]
    }
   ],
   "source": [
    "from sklearn import metrics\n",
    "accuracy = metrics.accuracy_score(y_test, y_test_predicted)\n",
    "print(accuracy)"
   ]
  },
  {
   "cell_type": "code",
   "execution_count": 8,
   "id": "197230a0-7ea4-4f03-9eea-fafe787498c0",
   "metadata": {},
   "outputs": [
    {
     "name": "stdout",
     "output_type": "stream",
     "text": [
      "訓練集:  0.6599132387661477\n",
      "測試集:  0.6524442908965279\n"
     ]
    }
   ],
   "source": [
    "print('訓練集: ',clf.score(X_train,y_train))\n",
    "print('測試集: ',clf.score(X_test,y_test))"
   ]
  },
  {
   "cell_type": "code",
   "execution_count": 9,
   "id": "1c232aac-f81a-4e3e-9227-c42cfbd9fa4a",
   "metadata": {},
   "outputs": [
    {
     "data": {
      "text/plain": [
       "0          96\n",
       "1         100\n",
       "2         100\n",
       "3          96\n",
       "4          88\n",
       "         ... \n",
       "307506     96\n",
       "307507    100\n",
       "307508     90\n",
       "307509     96\n",
       "307510     64\n",
       "Name: scores, Length: 307511, dtype: int64"
      ]
     },
     "execution_count": 9,
     "metadata": {},
     "output_type": "execute_result"
    }
   ],
   "source": [
    "df.scores"
   ]
  },
  {
   "cell_type": "markdown",
   "id": "64806657-d6cc-4169-b84c-1d8d90ed9f1e",
   "metadata": {},
   "source": [
    "## Random Forest"
   ]
  },
  {
   "cell_type": "code",
   "execution_count": 17,
   "id": "96647780-08ea-4a9f-a59e-afcbda2eed46",
   "metadata": {},
   "outputs": [
    {
     "data": {
      "text/html": [
       "<style>#sk-container-id-2 {color: black;background-color: white;}#sk-container-id-2 pre{padding: 0;}#sk-container-id-2 div.sk-toggleable {background-color: white;}#sk-container-id-2 label.sk-toggleable__label {cursor: pointer;display: block;width: 100%;margin-bottom: 0;padding: 0.3em;box-sizing: border-box;text-align: center;}#sk-container-id-2 label.sk-toggleable__label-arrow:before {content: \"▸\";float: left;margin-right: 0.25em;color: #696969;}#sk-container-id-2 label.sk-toggleable__label-arrow:hover:before {color: black;}#sk-container-id-2 div.sk-estimator:hover label.sk-toggleable__label-arrow:before {color: black;}#sk-container-id-2 div.sk-toggleable__content {max-height: 0;max-width: 0;overflow: hidden;text-align: left;background-color: #f0f8ff;}#sk-container-id-2 div.sk-toggleable__content pre {margin: 0.2em;color: black;border-radius: 0.25em;background-color: #f0f8ff;}#sk-container-id-2 input.sk-toggleable__control:checked~div.sk-toggleable__content {max-height: 200px;max-width: 100%;overflow: auto;}#sk-container-id-2 input.sk-toggleable__control:checked~label.sk-toggleable__label-arrow:before {content: \"▾\";}#sk-container-id-2 div.sk-estimator input.sk-toggleable__control:checked~label.sk-toggleable__label {background-color: #d4ebff;}#sk-container-id-2 div.sk-label input.sk-toggleable__control:checked~label.sk-toggleable__label {background-color: #d4ebff;}#sk-container-id-2 input.sk-hidden--visually {border: 0;clip: rect(1px 1px 1px 1px);clip: rect(1px, 1px, 1px, 1px);height: 1px;margin: -1px;overflow: hidden;padding: 0;position: absolute;width: 1px;}#sk-container-id-2 div.sk-estimator {font-family: monospace;background-color: #f0f8ff;border: 1px dotted black;border-radius: 0.25em;box-sizing: border-box;margin-bottom: 0.5em;}#sk-container-id-2 div.sk-estimator:hover {background-color: #d4ebff;}#sk-container-id-2 div.sk-parallel-item::after {content: \"\";width: 100%;border-bottom: 1px solid gray;flex-grow: 1;}#sk-container-id-2 div.sk-label:hover label.sk-toggleable__label {background-color: #d4ebff;}#sk-container-id-2 div.sk-serial::before {content: \"\";position: absolute;border-left: 1px solid gray;box-sizing: border-box;top: 0;bottom: 0;left: 50%;z-index: 0;}#sk-container-id-2 div.sk-serial {display: flex;flex-direction: column;align-items: center;background-color: white;padding-right: 0.2em;padding-left: 0.2em;position: relative;}#sk-container-id-2 div.sk-item {position: relative;z-index: 1;}#sk-container-id-2 div.sk-parallel {display: flex;align-items: stretch;justify-content: center;background-color: white;position: relative;}#sk-container-id-2 div.sk-item::before, #sk-container-id-2 div.sk-parallel-item::before {content: \"\";position: absolute;border-left: 1px solid gray;box-sizing: border-box;top: 0;bottom: 0;left: 50%;z-index: -1;}#sk-container-id-2 div.sk-parallel-item {display: flex;flex-direction: column;z-index: 1;position: relative;background-color: white;}#sk-container-id-2 div.sk-parallel-item:first-child::after {align-self: flex-end;width: 50%;}#sk-container-id-2 div.sk-parallel-item:last-child::after {align-self: flex-start;width: 50%;}#sk-container-id-2 div.sk-parallel-item:only-child::after {width: 0;}#sk-container-id-2 div.sk-dashed-wrapped {border: 1px dashed gray;margin: 0 0.4em 0.5em 0.4em;box-sizing: border-box;padding-bottom: 0.4em;background-color: white;}#sk-container-id-2 div.sk-label label {font-family: monospace;font-weight: bold;display: inline-block;line-height: 1.2em;}#sk-container-id-2 div.sk-label-container {text-align: center;}#sk-container-id-2 div.sk-container {/* jupyter's `normalize.less` sets `[hidden] { display: none; }` but bootstrap.min.css set `[hidden] { display: none !important; }` so we also need the `!important` here to be able to override the default hidden behavior on the sphinx rendered scikit-learn.org. See: https://github.com/scikit-learn/scikit-learn/issues/21755 */display: inline-block !important;position: relative;}#sk-container-id-2 div.sk-text-repr-fallback {display: none;}</style><div id=\"sk-container-id-2\" class=\"sk-top-container\"><div class=\"sk-text-repr-fallback\"><pre>RandomForestClassifier(criterion=&#x27;entropy&#x27;, max_depth=8, n_estimators=200,\n",
       "                       random_state=0)</pre><b>In a Jupyter environment, please rerun this cell to show the HTML representation or trust the notebook. <br />On GitHub, the HTML representation is unable to render, please try loading this page with nbviewer.org.</b></div><div class=\"sk-container\" hidden><div class=\"sk-item\"><div class=\"sk-estimator sk-toggleable\"><input class=\"sk-toggleable__control sk-hidden--visually\" id=\"sk-estimator-id-2\" type=\"checkbox\" checked><label for=\"sk-estimator-id-2\" class=\"sk-toggleable__label sk-toggleable__label-arrow\">RandomForestClassifier</label><div class=\"sk-toggleable__content\"><pre>RandomForestClassifier(criterion=&#x27;entropy&#x27;, max_depth=8, n_estimators=200,\n",
       "                       random_state=0)</pre></div></div></div></div></div>"
      ],
      "text/plain": [
       "RandomForestClassifier(criterion='entropy', max_depth=8, n_estimators=200,\n",
       "                       random_state=0)"
      ]
     },
     "execution_count": 17,
     "metadata": {},
     "output_type": "execute_result"
    }
   ],
   "source": [
    "from sklearn.ensemble import RandomForestClassifier\n",
    "\n",
    "clf = RandomForestClassifier(n_estimators=200,max_depth=8, random_state=0,criterion='entropy')\n",
    "clf.fit(X_train, y_train)\n",
    "\n"
   ]
  },
  {
   "cell_type": "code",
   "execution_count": 18,
   "id": "eab2c3ca-1946-43d0-a196-4c82faafa7d4",
   "metadata": {},
   "outputs": [
    {
     "data": {
      "text/plain": [
       "array([2.88250570e-03, 1.23134080e-03, 8.65724916e-03, 3.87014630e-03,\n",
       "       3.07080397e-03, 3.73193361e-03, 2.66797776e-04, 4.91480753e-04,\n",
       "       3.49324122e-04, 1.40889680e-04, 8.92262558e-04, 1.84604944e-03,\n",
       "       9.73913814e-05, 1.76194301e-04, 1.76021565e-04, 1.42940898e-04,\n",
       "       2.68693046e-04, 2.53832004e-04, 1.27694665e-03, 8.19560472e-04,\n",
       "       6.12205019e-02, 8.91713676e-05, 2.89600318e-04, 7.61367891e-04,\n",
       "       6.86759150e-04, 1.49685414e-02, 2.61738595e-03, 3.12239898e-03,\n",
       "       2.54057842e-04, 2.09397662e-04, 1.97185665e-04, 2.46790715e-04,\n",
       "       8.55734943e-04, 6.89339755e-04, 8.49507369e-05, 2.64178361e-04,\n",
       "       1.27696951e-04, 1.99651708e-04, 2.74221939e-04, 2.56508036e-04,\n",
       "       1.86904379e-04, 3.84118514e-04, 2.00450010e-04, 2.47577178e-04,\n",
       "       1.82235124e-04, 2.73981783e-04, 1.41580388e-04, 2.16657289e-04,\n",
       "       1.73012126e-04, 7.75611454e-05, 1.07767617e-04, 1.90427286e-04,\n",
       "       1.76289358e-04, 1.02171787e-04, 1.30193777e-04, 1.78986887e-04,\n",
       "       1.90171701e-04, 1.44915541e-04, 2.54033123e-04, 1.33893279e-04,\n",
       "       1.70591135e-04, 1.51208855e-04, 1.28336045e-04, 1.99198178e-04,\n",
       "       9.21432529e-05, 2.05089194e-04, 1.80575942e-04, 1.75126979e-04,\n",
       "       1.64218356e-04, 1.92262876e-04, 1.73122098e-04, 1.99381315e-04,\n",
       "       1.06427505e-04, 1.03336669e-04, 1.12392476e-04, 1.45688218e-04,\n",
       "       1.33752422e-04, 1.98370277e-04, 9.66956035e-05, 8.59057697e-05,\n",
       "       1.78635389e-04, 9.51404266e-05, 1.32679589e-04, 8.43198499e-05,\n",
       "       2.14550781e-04, 7.42827617e-05, 7.60815899e-05, 2.33090414e-04,\n",
       "       6.43296687e-05, 3.25353328e-04, 1.56597741e-04, 1.27472649e-04,\n",
       "       3.37149072e-04, 1.32248056e-04, 6.54926212e-04, 1.24397005e-04,\n",
       "       8.55318814e-05, 6.20581095e-05, 9.62997139e-05, 2.33323018e-04,\n",
       "       2.74164644e-04, 1.48240297e-04, 6.91233380e-04, 1.07978769e-04,\n",
       "       2.36956632e-02, 2.23844662e-02, 2.13126421e-02, 7.32413219e-02,\n",
       "       1.00785927e-02, 2.02840860e-02, 2.25060051e-02, 1.03360466e-02,\n",
       "       2.85750378e-04, 3.15181436e-04, 2.29569932e-01, 1.18958498e-02,\n",
       "       3.84768271e-02, 5.90640996e-02, 2.03174808e-02, 1.56059443e-02,\n",
       "       1.17928646e-02, 5.09815645e-04, 1.54033493e-02, 5.40467232e-02,\n",
       "       2.19168535e-02, 1.37551819e-01, 2.49758585e-02, 1.97068677e-02,\n",
       "       3.29225174e-03, 1.95906613e-03])"
      ]
     },
     "execution_count": 18,
     "metadata": {},
     "output_type": "execute_result"
    }
   ],
   "source": [
    "clf.feature_importances_"
   ]
  },
  {
   "cell_type": "markdown",
   "id": "0444d018-7b4a-4a2c-915a-aba25ae093c4",
   "metadata": {},
   "source": [
    "'DAYS_LAST_PHONE_CHANGE' , 'AMT_REQ_CREDIT_BUREAU_YEAR' , 'DAYS_BIRTH' , 'DAYS_EMPLOYED' , 'DAYS_ID_PUBLISH'\n",
    "feature_importances_ 較高的幾個"
   ]
  },
  {
   "cell_type": "code",
   "execution_count": 19,
   "id": "6d8410b4-a776-425d-90be-131ae1487401",
   "metadata": {},
   "outputs": [
    {
     "name": "stdout",
     "output_type": "stream",
     "text": [
      "訓練集:  0.8117604124888441\n",
      "測試集:  0.8117520811654526\n"
     ]
    }
   ],
   "source": [
    "print('訓練集: ',clf.score(X_train,y_train))\n",
    "print('測試集: ',clf.score(X_test,y_test))"
   ]
  },
  {
   "cell_type": "code",
   "execution_count": 20,
   "id": "edb1d03e-75b1-4e76-92e5-acd2948337bc",
   "metadata": {},
   "outputs": [
    {
     "name": "stdout",
     "output_type": "stream",
     "text": [
      "分類的預測結果：\n",
      "[0. 0. 0. ... 0. 0. 0.]\n",
      "真實數據：\n",
      "[0. 1. 0. ... 1. 1. 0.]\n"
     ]
    }
   ],
   "source": [
    "print('分類的預測結果：')\n",
    "pred = clf.predict(X_test) \n",
    "print(pred) #觀察預測結果AA\n",
    "print('真實數據：')\n",
    "print(y_test.values)  #觀察真實數據(Test data)"
   ]
  },
  {
   "cell_type": "code",
   "execution_count": 21,
   "id": "cf60216f-4744-48d3-b30e-ed226a54f23a",
   "metadata": {},
   "outputs": [
    {
     "data": {
      "text/plain": [
       "array([0., 0., 0., ..., 0., 0., 0.])"
      ]
     },
     "execution_count": 21,
     "metadata": {},
     "output_type": "execute_result"
    }
   ],
   "source": [
    "pred"
   ]
  },
  {
   "cell_type": "code",
   "execution_count": 22,
   "id": "3678e2ed-c787-49af-a5ff-3ce5a809b2b8",
   "metadata": {},
   "outputs": [
    {
     "data": {
      "text/plain": [
       "30752"
      ]
     },
     "execution_count": 22,
     "metadata": {},
     "output_type": "execute_result"
    }
   ],
   "source": [
    "len(pred)"
   ]
  },
  {
   "cell_type": "code",
   "execution_count": 23,
   "id": "fc8ab925-c08a-4177-a4b1-a67000889a5b",
   "metadata": {},
   "outputs": [
    {
     "data": {
      "text/plain": [
       "array([[24963,     0],\n",
       "       [ 5789,     0]])"
      ]
     },
     "execution_count": 23,
     "metadata": {},
     "output_type": "execute_result"
    }
   ],
   "source": [
    "from sklearn.metrics import confusion_matrix\n",
    "confusion_matrix(y_test,pred)"
   ]
  },
  {
   "cell_type": "code",
   "execution_count": 20,
   "id": "b5ccfcc7-495f-41bb-8dd5-a86dbc2c5154",
   "metadata": {},
   "outputs": [],
   "source": [
    "import joblib"
   ]
  },
  {
   "cell_type": "code",
   "execution_count": 21,
   "id": "768e40e1-8f86-4dca-89a9-5f3e0f83126a",
   "metadata": {},
   "outputs": [
    {
     "data": {
      "text/plain": [
       "['clf.pkl']"
      ]
     },
     "execution_count": 21,
     "metadata": {},
     "output_type": "execute_result"
    }
   ],
   "source": [
    "joblib.dump(clf,'clf.pkl')"
   ]
  },
  {
   "cell_type": "code",
   "execution_count": null,
   "id": "460fc9bf-e3bb-415a-8943-1a16250d2aec",
   "metadata": {},
   "outputs": [],
   "source": []
  }
 ],
 "metadata": {
  "kernelspec": {
   "display_name": "Python 3 (ipykernel)",
   "language": "python",
   "name": "python3"
  },
  "language_info": {
   "codemirror_mode": {
    "name": "ipython",
    "version": 3
   },
   "file_extension": ".py",
   "mimetype": "text/x-python",
   "name": "python",
   "nbconvert_exporter": "python",
   "pygments_lexer": "ipython3",
   "version": "3.8.10"
  }
 },
 "nbformat": 4,
 "nbformat_minor": 5
}
