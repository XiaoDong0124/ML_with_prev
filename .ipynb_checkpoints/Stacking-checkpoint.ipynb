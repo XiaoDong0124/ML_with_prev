{
 "cells": [
  {
   "cell_type": "code",
   "execution_count": 1,
   "id": "f25ea208-3306-4d65-b406-fb7581146fa1",
   "metadata": {},
   "outputs": [],
   "source": [
    "import pandas as pd\n",
    "import numpy as np\n",
    "import matplotlib as plt\n",
    "import seaborn as sns\n",
    "#df_org=pd.read_csv(filepath+\"application_train_merge_clear_nomissing .csv\")\n",
    "df_org=pd.read_csv(\"application_train_merge_clear_nomissing_with_ylabel_dy.csv\")"
   ]
  },
  {
   "cell_type": "code",
   "execution_count": 2,
   "id": "4617b71c-96f4-4091-a385-4d72ff287b3a",
   "metadata": {},
   "outputs": [],
   "source": [
    "df=df_org"
   ]
  },
  {
   "cell_type": "code",
   "execution_count": 27,
   "id": "e2fb2f21-5d00-464c-9199-15eca6487eaf",
   "metadata": {},
   "outputs": [
    {
     "data": {
      "text/plain": [
       "['Unnamed: 0',\n",
       " 'TARGET',\n",
       " 'CNT_CHILDREN',\n",
       " 'AMT_INCOME_TOTAL',\n",
       " 'NAME_EDUCATION_TYPE',\n",
       " 'DAYS_BIRTH',\n",
       " 'DAYS_EMPLOYED',\n",
       " 'DAYS_REGISTRATION',\n",
       " 'DAYS_ID_PUBLISH',\n",
       " 'FLAG_EMP_PHONE',\n",
       " 'FLAG_WORK_PHONE',\n",
       " 'FLAG_PHONE',\n",
       " 'FLAG_EMAIL',\n",
       " 'CNT_FAM_MEMBERS',\n",
       " 'HOUR_APPR_PROCESS_START_x',\n",
       " 'REG_REGION_NOT_WORK_REGION',\n",
       " 'LIVE_REGION_NOT_WORK_REGION',\n",
       " 'REG_CITY_NOT_LIVE_CITY',\n",
       " 'REG_CITY_NOT_WORK_CITY',\n",
       " 'LIVE_CITY_NOT_WORK_CITY',\n",
       " 'OBS_60_CNT_SOCIAL_CIRCLE',\n",
       " 'DEF_60_CNT_SOCIAL_CIRCLE',\n",
       " 'DAYS_LAST_PHONE_CHANGE',\n",
       " 'AMT_REQ_CREDIT_BUREAU_WEEK',\n",
       " 'AMT_REQ_CREDIT_BUREAU_MON',\n",
       " 'AMT_REQ_CREDIT_BUREAU_QRT',\n",
       " 'AMT_REQ_CREDIT_BUREAU_YEAR',\n",
       " 'NAME_CONTRACT_TYPE_Cash loans',\n",
       " 'NAME_CONTRACT_TYPE_Revolving loans',\n",
       " 'CODE_GENDER_F',\n",
       " 'CODE_GENDER_M',\n",
       " 'FLAG_OWN_CAR_N',\n",
       " 'FLAG_OWN_CAR_Y',\n",
       " 'FLAG_OWN_REALTY_N',\n",
       " 'FLAG_OWN_REALTY_Y',\n",
       " 'NAME_TYPE_SUITE_Family',\n",
       " 'NAME_TYPE_SUITE_Spouse, partner',\n",
       " 'NAME_TYPE_SUITE_Unaccompanied',\n",
       " 'NAME_INCOME_TYPE_Commercial associate',\n",
       " 'NAME_INCOME_TYPE_Pensioner',\n",
       " 'NAME_INCOME_TYPE_State servant',\n",
       " 'NAME_INCOME_TYPE_Working',\n",
       " 'NAME_FAMILY_STATUS_Civil marriage',\n",
       " 'NAME_FAMILY_STATUS_Married',\n",
       " 'NAME_FAMILY_STATUS_Separated',\n",
       " 'NAME_FAMILY_STATUS_Single / not married',\n",
       " 'NAME_FAMILY_STATUS_Widow',\n",
       " 'NAME_HOUSING_TYPE_House / apartment',\n",
       " 'NAME_HOUSING_TYPE_Municipal apartment',\n",
       " 'NAME_HOUSING_TYPE_With parents',\n",
       " 'OCCUPATION_TYPE_Accountants',\n",
       " 'OCCUPATION_TYPE_Core staff',\n",
       " 'OCCUPATION_TYPE_Drivers',\n",
       " 'OCCUPATION_TYPE_High skill tech staff',\n",
       " 'OCCUPATION_TYPE_Laborers',\n",
       " 'OCCUPATION_TYPE_Managers',\n",
       " 'OCCUPATION_TYPE_Medicine staff',\n",
       " 'OCCUPATION_TYPE_Sales staff',\n",
       " 'OCCUPATION_TYPE_Security staff',\n",
       " 'WEEKDAY_APPR_PROCESS_START_FRIDAY',\n",
       " 'WEEKDAY_APPR_PROCESS_START_MONDAY',\n",
       " 'WEEKDAY_APPR_PROCESS_START_SATURDAY',\n",
       " 'WEEKDAY_APPR_PROCESS_START_SUNDAY',\n",
       " 'WEEKDAY_APPR_PROCESS_START_THURSDAY',\n",
       " 'WEEKDAY_APPR_PROCESS_START_TUESDAY',\n",
       " 'WEEKDAY_APPR_PROCESS_START_WEDNESDAY',\n",
       " 'ORGANIZATION_TYPE_Construction',\n",
       " 'ORGANIZATION_TYPE_Government',\n",
       " 'ORGANIZATION_TYPE_Kindergarten',\n",
       " 'ORGANIZATION_TYPE_Medicine',\n",
       " 'ORGANIZATION_TYPE_Other',\n",
       " 'ORGANIZATION_TYPE_School',\n",
       " 'ORGANIZATION_TYPE_Self-employed',\n",
       " 'ORGANIZATION_TYPE_XNA',\n",
       " 'FONDKAPREMONT_MODE_reg oper account',\n",
       " 'FONDKAPREMONT_MODE_reg oper spec account',\n",
       " 'HOUSETYPE_MODE_block of flats',\n",
       " 'WALLSMATERIAL_MODE_Block',\n",
       " 'WALLSMATERIAL_MODE_Panel',\n",
       " 'WALLSMATERIAL_MODE_Stone, brick',\n",
       " 'EMERGENCYSTATE_MODE_No',\n",
       " 'EMERGENCYSTATE_MODE_Yes',\n",
       " 'simple_labelx',\n",
       " 'scores']"
      ]
     },
     "execution_count": 27,
     "metadata": {},
     "output_type": "execute_result"
    }
   ],
   "source": [
    "df.columns.tolist()"
   ]
  },
  {
   "cell_type": "markdown",
   "id": "d24650da-dc55-4440-8235-8a9ce9152321",
   "metadata": {},
   "source": [
    "## 資料切割"
   ]
  },
  {
   "cell_type": "code",
   "execution_count": 3,
   "id": "cb314994-9e6e-4d68-ab5d-bd3ed7bc8270",
   "metadata": {},
   "outputs": [],
   "source": [
    "y_=[]#找出 違約人的索引\n",
    "for i in (df[df[\"simple_labelx\"]!=0].index):\n",
    "  y_.append(i)\n",
    "y_1=[] #找出沒違約人的索引\n",
    "for i in (df[df[\"simple_labelx\"]==0].index):\n",
    "  y_1.append(i)\n",
    "df_split=df.loc[y_]\n",
    "df_split0=df.loc[y_1]\n",
    "df_tar1=df_split.reset_index()\n",
    "df_tar0=df_split0.reset_index()\n",
    "df_tar_e=df_tar0.iloc[42114:100000,:] #分成同等分\n",
    "dfe=pd.concat([df_tar_e,df_tar1],ignore_index=True,axis=0)"
   ]
  },
  {
   "cell_type": "code",
   "execution_count": 63,
   "id": "38f96f4e-8340-488f-a1fd-4f7a19e53cda",
   "metadata": {},
   "outputs": [
    {
     "data": {
      "text/plain": [
       "42114"
      ]
     },
     "execution_count": 63,
     "metadata": {},
     "output_type": "execute_result"
    }
   ],
   "source": [
    "100000-57886"
   ]
  },
  {
   "cell_type": "code",
   "execution_count": 4,
   "id": "f8ee7b9b-acc9-443a-8f12-3063ea8d7b76",
   "metadata": {},
   "outputs": [],
   "source": [
    "## RFE randomforest選出來的前十個(從全部特徵裡選出來的)with prev\n",
    "df_X = dfe[['DAYS_LAST_PHONE_CHANGE', 'PREV_ANNUITY_median', 'PREV_APPLICATION_max',\n",
    "       'PREV_CREDIT_max', 'PREV_CREDIT_sum', 'DAYS_DECISION_median',\n",
    "       'CONTRACT_Cash_loans', 'CONTRACT_Consumer_loans', 'PORTFOLIO_Cash',\n",
    "       'YIELD_high']]\n",
    "df_y = dfe['simple_labelx']"
   ]
  },
  {
   "cell_type": "code",
   "execution_count": 13,
   "id": "41cbd5b3-cc4f-456c-94ba-ce3a6fc680dc",
   "metadata": {},
   "outputs": [],
   "source": [
    "df_X=dfe[['DAYS_LAST_PHONE_CHANGE',\n",
    "       'AMT_REQ_CREDIT_BUREAU_YEAR']]\n",
    "df_y = dfe['simple_labelx']"
   ]
  },
  {
   "cell_type": "code",
   "execution_count": null,
   "id": "5908928e-20a2-4f7d-8cbe-6a906c8d67ac",
   "metadata": {},
   "outputs": [],
   "source": [
    "df_X = dfe[['AMT_INCOME_TOTAL',  'DAYS_REGISTRATION',\n",
    "        'CNT_FAM_MEMBERS',\n",
    "       'OBS_60_CNT_SOCIAL_CIRCLE']]\n",
    "df_y = dfe['simple_labelx']"
   ]
  },
  {
   "cell_type": "code",
   "execution_count": 17,
   "id": "b8fe53d7-71f4-4ba1-995d-5e0c657e8aa5",
   "metadata": {},
   "outputs": [
    {
     "data": {
      "text/html": [
       "<div>\n",
       "<style scoped>\n",
       "    .dataframe tbody tr th:only-of-type {\n",
       "        vertical-align: middle;\n",
       "    }\n",
       "\n",
       "    .dataframe tbody tr th {\n",
       "        vertical-align: top;\n",
       "    }\n",
       "\n",
       "    .dataframe thead th {\n",
       "        text-align: right;\n",
       "    }\n",
       "</style>\n",
       "<table border=\"1\" class=\"dataframe\">\n",
       "  <thead>\n",
       "    <tr style=\"text-align: right;\">\n",
       "      <th></th>\n",
       "      <th>Unnamed: 0</th>\n",
       "      <th>TARGET</th>\n",
       "      <th>CNT_CHILDREN</th>\n",
       "      <th>AMT_INCOME_TOTAL</th>\n",
       "      <th>NAME_EDUCATION_TYPE</th>\n",
       "      <th>DAYS_BIRTH</th>\n",
       "      <th>DAYS_EMPLOYED</th>\n",
       "      <th>DAYS_REGISTRATION</th>\n",
       "      <th>DAYS_ID_PUBLISH</th>\n",
       "      <th>FLAG_EMP_PHONE</th>\n",
       "      <th>...</th>\n",
       "      <th>FONDKAPREMONT_MODE_reg oper account</th>\n",
       "      <th>FONDKAPREMONT_MODE_reg oper spec account</th>\n",
       "      <th>HOUSETYPE_MODE_block of flats</th>\n",
       "      <th>WALLSMATERIAL_MODE_Block</th>\n",
       "      <th>WALLSMATERIAL_MODE_Panel</th>\n",
       "      <th>WALLSMATERIAL_MODE_Stone, brick</th>\n",
       "      <th>EMERGENCYSTATE_MODE_No</th>\n",
       "      <th>EMERGENCYSTATE_MODE_Yes</th>\n",
       "      <th>simple_labelx</th>\n",
       "      <th>scores</th>\n",
       "    </tr>\n",
       "  </thead>\n",
       "  <tbody>\n",
       "    <tr>\n",
       "      <th>0</th>\n",
       "      <td>0</td>\n",
       "      <td>1.0</td>\n",
       "      <td>0.0</td>\n",
       "      <td>202500.0</td>\n",
       "      <td>1.0</td>\n",
       "      <td>-9461.0</td>\n",
       "      <td>-637.0</td>\n",
       "      <td>-3648.0</td>\n",
       "      <td>-2120.0</td>\n",
       "      <td>1.0</td>\n",
       "      <td>...</td>\n",
       "      <td>1.0</td>\n",
       "      <td>0.0</td>\n",
       "      <td>1.0</td>\n",
       "      <td>0.0</td>\n",
       "      <td>0.0</td>\n",
       "      <td>1.0</td>\n",
       "      <td>1.0</td>\n",
       "      <td>0.0</td>\n",
       "      <td>0.0</td>\n",
       "      <td>96</td>\n",
       "    </tr>\n",
       "    <tr>\n",
       "      <th>1</th>\n",
       "      <td>1</td>\n",
       "      <td>0.0</td>\n",
       "      <td>0.0</td>\n",
       "      <td>270000.0</td>\n",
       "      <td>3.0</td>\n",
       "      <td>-16765.0</td>\n",
       "      <td>-1188.0</td>\n",
       "      <td>-1186.0</td>\n",
       "      <td>-291.0</td>\n",
       "      <td>1.0</td>\n",
       "      <td>...</td>\n",
       "      <td>1.0</td>\n",
       "      <td>0.0</td>\n",
       "      <td>1.0</td>\n",
       "      <td>1.0</td>\n",
       "      <td>0.0</td>\n",
       "      <td>0.0</td>\n",
       "      <td>1.0</td>\n",
       "      <td>0.0</td>\n",
       "      <td>0.0</td>\n",
       "      <td>100</td>\n",
       "    </tr>\n",
       "    <tr>\n",
       "      <th>2</th>\n",
       "      <td>2</td>\n",
       "      <td>0.0</td>\n",
       "      <td>0.0</td>\n",
       "      <td>67500.0</td>\n",
       "      <td>1.0</td>\n",
       "      <td>-19046.0</td>\n",
       "      <td>-225.0</td>\n",
       "      <td>-4260.0</td>\n",
       "      <td>-2531.0</td>\n",
       "      <td>1.0</td>\n",
       "      <td>...</td>\n",
       "      <td>0.0</td>\n",
       "      <td>0.0</td>\n",
       "      <td>0.0</td>\n",
       "      <td>0.0</td>\n",
       "      <td>0.0</td>\n",
       "      <td>0.0</td>\n",
       "      <td>0.0</td>\n",
       "      <td>0.0</td>\n",
       "      <td>0.0</td>\n",
       "      <td>100</td>\n",
       "    </tr>\n",
       "    <tr>\n",
       "      <th>3</th>\n",
       "      <td>3</td>\n",
       "      <td>0.0</td>\n",
       "      <td>0.0</td>\n",
       "      <td>135000.0</td>\n",
       "      <td>1.0</td>\n",
       "      <td>-19005.0</td>\n",
       "      <td>-3039.0</td>\n",
       "      <td>-9833.0</td>\n",
       "      <td>-2437.0</td>\n",
       "      <td>1.0</td>\n",
       "      <td>...</td>\n",
       "      <td>0.0</td>\n",
       "      <td>0.0</td>\n",
       "      <td>0.0</td>\n",
       "      <td>0.0</td>\n",
       "      <td>0.0</td>\n",
       "      <td>0.0</td>\n",
       "      <td>0.0</td>\n",
       "      <td>0.0</td>\n",
       "      <td>0.0</td>\n",
       "      <td>96</td>\n",
       "    </tr>\n",
       "    <tr>\n",
       "      <th>4</th>\n",
       "      <td>4</td>\n",
       "      <td>0.0</td>\n",
       "      <td>0.0</td>\n",
       "      <td>121500.0</td>\n",
       "      <td>1.0</td>\n",
       "      <td>-19932.0</td>\n",
       "      <td>-3038.0</td>\n",
       "      <td>-4311.0</td>\n",
       "      <td>-3458.0</td>\n",
       "      <td>1.0</td>\n",
       "      <td>...</td>\n",
       "      <td>0.0</td>\n",
       "      <td>0.0</td>\n",
       "      <td>0.0</td>\n",
       "      <td>0.0</td>\n",
       "      <td>0.0</td>\n",
       "      <td>0.0</td>\n",
       "      <td>0.0</td>\n",
       "      <td>0.0</td>\n",
       "      <td>0.0</td>\n",
       "      <td>88</td>\n",
       "    </tr>\n",
       "  </tbody>\n",
       "</table>\n",
       "<p>5 rows × 84 columns</p>\n",
       "</div>"
      ],
      "text/plain": [
       "   Unnamed: 0  TARGET  CNT_CHILDREN  AMT_INCOME_TOTAL  NAME_EDUCATION_TYPE  \\\n",
       "0           0     1.0           0.0          202500.0                  1.0   \n",
       "1           1     0.0           0.0          270000.0                  3.0   \n",
       "2           2     0.0           0.0           67500.0                  1.0   \n",
       "3           3     0.0           0.0          135000.0                  1.0   \n",
       "4           4     0.0           0.0          121500.0                  1.0   \n",
       "\n",
       "   DAYS_BIRTH  DAYS_EMPLOYED  DAYS_REGISTRATION  DAYS_ID_PUBLISH  \\\n",
       "0     -9461.0         -637.0            -3648.0          -2120.0   \n",
       "1    -16765.0        -1188.0            -1186.0           -291.0   \n",
       "2    -19046.0         -225.0            -4260.0          -2531.0   \n",
       "3    -19005.0        -3039.0            -9833.0          -2437.0   \n",
       "4    -19932.0        -3038.0            -4311.0          -3458.0   \n",
       "\n",
       "   FLAG_EMP_PHONE  ...  FONDKAPREMONT_MODE_reg oper account  \\\n",
       "0             1.0  ...                                  1.0   \n",
       "1             1.0  ...                                  1.0   \n",
       "2             1.0  ...                                  0.0   \n",
       "3             1.0  ...                                  0.0   \n",
       "4             1.0  ...                                  0.0   \n",
       "\n",
       "   FONDKAPREMONT_MODE_reg oper spec account  HOUSETYPE_MODE_block of flats  \\\n",
       "0                                       0.0                            1.0   \n",
       "1                                       0.0                            1.0   \n",
       "2                                       0.0                            0.0   \n",
       "3                                       0.0                            0.0   \n",
       "4                                       0.0                            0.0   \n",
       "\n",
       "   WALLSMATERIAL_MODE_Block  WALLSMATERIAL_MODE_Panel  \\\n",
       "0                       0.0                       0.0   \n",
       "1                       1.0                       0.0   \n",
       "2                       0.0                       0.0   \n",
       "3                       0.0                       0.0   \n",
       "4                       0.0                       0.0   \n",
       "\n",
       "   WALLSMATERIAL_MODE_Stone, brick  EMERGENCYSTATE_MODE_No  \\\n",
       "0                              1.0                     1.0   \n",
       "1                              0.0                     1.0   \n",
       "2                              0.0                     0.0   \n",
       "3                              0.0                     0.0   \n",
       "4                              0.0                     0.0   \n",
       "\n",
       "   EMERGENCYSTATE_MODE_Yes  simple_labelx  scores  \n",
       "0                      0.0            0.0      96  \n",
       "1                      0.0            0.0     100  \n",
       "2                      0.0            0.0     100  \n",
       "3                      0.0            0.0      96  \n",
       "4                      0.0            0.0      88  \n",
       "\n",
       "[5 rows x 84 columns]"
      ]
     },
     "execution_count": 17,
     "metadata": {},
     "output_type": "execute_result"
    }
   ],
   "source": [
    "df.head()"
   ]
  },
  {
   "cell_type": "markdown",
   "id": "ef7db25e-084a-4747-9a4a-c0ab8377ce79",
   "metadata": {},
   "source": [
    "## Try smote"
   ]
  },
  {
   "cell_type": "code",
   "execution_count": null,
   "id": "83c74ca4-2285-4c4c-82bb-3fa989c47e06",
   "metadata": {},
   "outputs": [],
   "source": []
  },
  {
   "cell_type": "code",
   "execution_count": 6,
   "id": "05bf9ff8-c4aa-41ec-8214-3be6074cb66c",
   "metadata": {},
   "outputs": [],
   "source": [
    "from sklearn.model_selection import train_test_split\n",
    "from sklearn.preprocessing import StandardScaler\n",
    "X , y = dfe.iloc[:,2:-2] , dfe.iloc[:,-2]\n",
    "#X , y = df_X  , df_y\n",
    "stdsc = StandardScaler()\n",
    "X = stdsc.fit_transform(X)\n",
    "X_train, X_test, y_train, y_test =\\\n",
    "    train_test_split(X, y, \n",
    "                     test_size=0.1,#超過10萬9,1分比較好 \n",
    "                     #random_state=0, \n",
    "                     stratify=y)\n",
    "\n",
    "\n"
   ]
  },
  {
   "cell_type": "code",
   "execution_count": 29,
   "id": "90c87197-ca79-4e46-9d0e-80e33778a3cb",
   "metadata": {},
   "outputs": [],
   "source": [
    "from imblearn.over_sampling import SMOTE\n",
    "X_res,y_res = SMOTE(random_state=41).fit_resample(X_train,y_train)"
   ]
  },
  {
   "cell_type": "code",
   "execution_count": 30,
   "id": "9bdc319d-42b8-4bf7-b01d-846f510bd650",
   "metadata": {},
   "outputs": [
    {
     "data": {
      "text/plain": [
       "(449324, 80)"
      ]
     },
     "execution_count": 30,
     "metadata": {},
     "output_type": "execute_result"
    }
   ],
   "source": []
  },
  {
   "cell_type": "code",
   "execution_count": 32,
   "id": "de9ba0f4-1fb8-41f8-8249-dbc546606a7d",
   "metadata": {},
   "outputs": [
    {
     "data": {
      "text/plain": [
       "(449324,)"
      ]
     },
     "execution_count": 32,
     "metadata": {},
     "output_type": "execute_result"
    }
   ],
   "source": []
  },
  {
   "cell_type": "code",
   "execution_count": 46,
   "id": "65d87fa1-4988-45bf-a91c-bfc9ad5e4f21",
   "metadata": {},
   "outputs": [
    {
     "data": {
      "text/plain": [
       "0.0    224662\n",
       "1.0     52097\n",
       "Name: simple_labelx, dtype: int64"
      ]
     },
     "execution_count": 46,
     "metadata": {},
     "output_type": "execute_result"
    }
   ],
   "source": []
  },
  {
   "cell_type": "code",
   "execution_count": 45,
   "id": "fb44f437-0c5d-4bbb-bc7a-47eb2ec108c5",
   "metadata": {},
   "outputs": [
    {
     "data": {
      "text/plain": [
       "(449324, 80)"
      ]
     },
     "execution_count": 45,
     "metadata": {},
     "output_type": "execute_result"
    }
   ],
   "source": []
  },
  {
   "cell_type": "code",
   "execution_count": 38,
   "id": "42381e19-f897-4c6b-af79-3eba2e543c89",
   "metadata": {},
   "outputs": [],
   "source": [
    "from xgboost import XGBClassifier\n",
    "\n",
    "# 建立 XGBClassifier 模型\n",
    "xgboostModel = XGBClassifier(n_estimators=100, learning_rate= 0.3)\n",
    "# 使用訓練資料訓練模型\n",
    "xgboostModel.fit(X_res, y_res)\n",
    "# 使用訓練資料預測分類\n",
    "predicted = xgboostModel.predict(X_res)"
   ]
  },
  {
   "cell_type": "code",
   "execution_count": 47,
   "id": "583615de-feac-412c-8793-f2d219f9addf",
   "metadata": {},
   "outputs": [
    {
     "name": "stdout",
     "output_type": "stream",
     "text": [
      "訓練集:  0.812770925267714\n",
      "測試集:  0.8116220083246618\n"
     ]
    }
   ],
   "source": [
    "# 預測成功的比例\n",
    "print('訓練集: ',xgboostModel.score(X,y))\n",
    "print('測試集: ',xgboostModel.score(X_test,y_test))"
   ]
  },
  {
   "cell_type": "code",
   "execution_count": 50,
   "id": "5bb619c6-fdc6-41c4-943d-b1cb9c425241",
   "metadata": {},
   "outputs": [
    {
     "name": "stdout",
     "output_type": "stream",
     "text": [
      "分類的預測結果：\n",
      "[0 0 0 ... 0 0 0]\n",
      "真實數據：\n",
      "[0. 0. 0. ... 1. 0. 1.]\n"
     ]
    }
   ],
   "source": [
    "print('分類的預測結果：')\n",
    "pred = xgboostModel.predict(X) \n",
    "print(pred) #觀察預測結果AA\n",
    "print('真實數據：')\n",
    "print(y.values)  #觀察真實數據(Test data)"
   ]
  },
  {
   "cell_type": "code",
   "execution_count": 51,
   "id": "ae6e4c9d-89f0-4605-9f16-c303c2e6e2e5",
   "metadata": {},
   "outputs": [
    {
     "data": {
      "text/plain": [
       "array([[249556,     69],\n",
       "       [ 57506,    380]])"
      ]
     },
     "execution_count": 51,
     "metadata": {},
     "output_type": "execute_result"
    }
   ],
   "source": [
    "from sklearn.metrics import confusion_matrix\n",
    "confusion_matrix(y, pred)"
   ]
  },
  {
   "cell_type": "code",
   "execution_count": 52,
   "id": "b769ecb5-1a74-47e5-8aee-1ef3d35dc9d5",
   "metadata": {},
   "outputs": [
    {
     "data": {
      "text/plain": [
       "0.19168666666666667"
      ]
     },
     "execution_count": 52,
     "metadata": {},
     "output_type": "execute_result"
    }
   ],
   "source": []
  },
  {
   "cell_type": "code",
   "execution_count": 66,
   "id": "b864758a-1636-44d2-832a-594c1d34644a",
   "metadata": {},
   "outputs": [],
   "source": [
    "from xgboost import XGBClassifier\n",
    "\n",
    "# 建立 XGBClassifier 模型\n",
    "xgboostModel = XGBClassifier(n_estimators=100, learning_rate= 0.3)\n",
    "# 使用訓練資料訓練模型\n",
    "xgboostModel.fit(X_train, y_train)\n",
    "# 使用訓練資料預測分類\n",
    "predicted = xgboostModel.predict(X_train)"
   ]
  },
  {
   "cell_type": "code",
   "execution_count": 67,
   "id": "c84047b5-c0ad-4f8c-8565-ea3262220b9c",
   "metadata": {},
   "outputs": [
    {
     "name": "stdout",
     "output_type": "stream",
     "text": [
      "訓練集:  0.6777933470257405\n",
      "測試集:  0.6014855760925893\n"
     ]
    }
   ],
   "source": [
    "# 預測成功的比例\n",
    "print('訓練集: ',xgboostModel.score(X_train,y_train))\n",
    "print('測試集: ',xgboostModel.score(X_test,y_test))"
   ]
  },
  {
   "cell_type": "code",
   "execution_count": null,
   "id": "bf4a53a5-f44c-4628-b00a-c81bf3cdb078",
   "metadata": {},
   "outputs": [],
   "source": []
  },
  {
   "cell_type": "code",
   "execution_count": 57,
   "id": "0a3f592c-9dce-4bc4-9392-09736dfe1b1e",
   "metadata": {},
   "outputs": [
    {
     "data": {
      "text/plain": [
       "array([0.04752251, 0.01133161, 0.01091016, 0.01553189, 0.01433255,\n",
       "       0.01110491, 0.01134785, 0.011256  , 0.00801148, 0.01447892,\n",
       "       0.01367397, 0.01770196, 0.00998281, 0.01018202, 0.01047947,\n",
       "       0.01010938, 0.00725966, 0.01139669, 0.0123744 , 0.0099507 ,\n",
       "       0.01653048, 0.04813385, 0.01028437, 0.01113081, 0.01258566,\n",
       "       0.05456142, 0.05918996, 0.        , 0.00785614, 0.00250714,\n",
       "       0.00944629, 0.        , 0.01555485, 0.        , 0.01065454,\n",
       "       0.01033541, 0.01118081, 0.0093401 , 0.        , 0.00930007,\n",
       "       0.00936617, 0.01149656, 0.0111186 , 0.00878105, 0.00962319,\n",
       "       0.00994606, 0.01280336, 0.01497433, 0.01432325, 0.01384071,\n",
       "       0.01240824, 0.01025764, 0.01356657, 0.00856376, 0.01082209,\n",
       "       0.00980794, 0.01119874, 0.01248373, 0.00915094, 0.00914285,\n",
       "       0.00888859, 0.01040812, 0.00965207, 0.01014216, 0.00967482,\n",
       "       0.00946878, 0.01329012, 0.01074098, 0.0123577 , 0.01089275,\n",
       "       0.00811211, 0.01069538, 0.        , 0.00999248, 0.01100488,\n",
       "       0.01002934, 0.01265917, 0.01006093, 0.00756523, 0.01442957,\n",
       "       0.00872822], dtype=float32)"
      ]
     },
     "execution_count": 57,
     "metadata": {},
     "output_type": "execute_result"
    }
   ],
   "source": [
    "xgboostModel.feature_importances_"
   ]
  },
  {
   "cell_type": "markdown",
   "id": "3aa08016-358e-4724-9cb9-ab1f76fdf076",
   "metadata": {},
   "source": [
    "## Stacking"
   ]
  },
  {
   "cell_type": "code",
   "execution_count": null,
   "id": "314800cf-f073-4645-9df1-34ef259c6e1f",
   "metadata": {},
   "outputs": [],
   "source": [
    "from sklearn.ensemble import RandomForestRegressor\n",
    "from sklearn.linear_model import LinearRegression\n",
    "from sklearn import svm\n",
    "from sklearn.neighbors import KNeighborsRegressor\n",
    "from sklearn.tree import DecisionTreeRegressor\n",
    "from sklearn.ensemble import StackingRegressor\n",
    "from sklearn.neural_network import MLPRegressor\n",
    "\n",
    "\n",
    "estimators = [\n",
    "    ('rf', RandomForestRegressor(random_state = 42)),\n",
    "    ('svr', svm.SVR())\n",
    "    \n",
    "]\n",
    "clf = StackingRegressor(\n",
    "    estimators=estimators, final_estimator=DecisionTreeRegressor(random_state = 42),\n",
    "                            )\n",
    "\n",
    "\n",
    "clf.fit(X_train, y_train)\n",
    "\n",
    "print(\"訓練集 Score: \", clf.score(X_train,y_train))\n",
    "print(\"測試集 Score: \", clf.score(X_test,y_test))"
   ]
  },
  {
   "cell_type": "code",
   "execution_count": null,
   "id": "95cad742-0cf1-4777-ba5e-80e208b41cf9",
   "metadata": {},
   "outputs": [],
   "source": []
  }
 ],
 "metadata": {
  "kernelspec": {
   "display_name": "Python 3 (ipykernel)",
   "language": "python",
   "name": "python3"
  },
  "language_info": {
   "codemirror_mode": {
    "name": "ipython",
    "version": 3
   },
   "file_extension": ".py",
   "mimetype": "text/x-python",
   "name": "python",
   "nbconvert_exporter": "python",
   "pygments_lexer": "ipython3",
   "version": "3.8.10"
  }
 },
 "nbformat": 4,
 "nbformat_minor": 5
}
