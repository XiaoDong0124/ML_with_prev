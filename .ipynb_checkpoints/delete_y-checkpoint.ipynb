{
 "cells": [
  {
   "cell_type": "code",
   "execution_count": 2,
   "id": "49d92a10-4706-40e2-8593-954601eca828",
   "metadata": {},
   "outputs": [],
   "source": [
    "import pandas as pd\n",
    "import numpy as np\n",
    "#df_org=pd.read_csv(filepath+\"application_train_merge_clear_nomissing .csv\")\n",
    "#df_org2=pd.read_csv(\"application_train_merge_clear_nomissing_with_ylabel_dy.csv\")\n",
    "#df_org1=pd.read_csv(\"application_train_merge_clear_nomissing_with_ylabel.csv\")"
   ]
  },
  {
   "cell_type": "code",
   "execution_count": 3,
   "id": "60811a6c-dfdd-4452-9608-0c1d5c0f523c",
   "metadata": {},
   "outputs": [],
   "source": [
    "df_org3=pd.read_csv(\"prev_app_final.csv\")"
   ]
  },
  {
   "cell_type": "code",
   "execution_count": 4,
   "id": "88b549d2-c1a1-44b6-8474-3fd146521ba7",
   "metadata": {},
   "outputs": [],
   "source": [
    "#df1=df_org1\n",
    "#df2=df_org2\n",
    "df3=df_org3"
   ]
  },
  {
   "cell_type": "code",
   "execution_count": 5,
   "id": "c5b2beec-fb6f-449d-b543-12187a8dde09",
   "metadata": {},
   "outputs": [
    {
     "data": {
      "text/plain": [
       "(338605, 31)"
      ]
     },
     "execution_count": 5,
     "metadata": {},
     "output_type": "execute_result"
    }
   ],
   "source": [
    "df3.shape"
   ]
  },
  {
   "cell_type": "code",
   "execution_count": 6,
   "id": "a63e5084-535a-4494-8423-9015efbe57e1",
   "metadata": {},
   "outputs": [
    {
     "data": {
      "text/plain": [
       "['SK_ID_CURR',\n",
       " \"('SK_ID_PREV', 'max')\",\n",
       " \"('AMT_ANNUITY', 'median')\",\n",
       " \"('AMT_APPLICATION', 'max')\",\n",
       " \"('AMT_CREDIT', 'max')\",\n",
       " \"('AMT_CREDIT', 'sum')\",\n",
       " \"('AMT_DOWN_PAYMENT', 'median')\",\n",
       " \"('AMT_GOODS_PRICE', 'max')\",\n",
       " \"('AMT_CRE/APP', 'max')\",\n",
       " \"('RATE_DOWN_PAYMENT', 'median')\",\n",
       " \"('RATE_INTEREST_PRIMARY', 'median')\",\n",
       " \"('RATE_INTEREST_PRIMARY', 'max')\",\n",
       " \"('DAYS_DECISION', 'median')\",\n",
       " \"('CNT_PAYMENT', 'median')\",\n",
       " \"('DAYS_PERIOD', 'median')\",\n",
       " 'CONTRACT_Cash_loans',\n",
       " 'CONTRACT_Consumer_loans',\n",
       " 'CONTRACT_Revolving_loans',\n",
       " 'Cash through the bank',\n",
       " 'Cashless from the account of the employer',\n",
       " 'Non-cash from your account',\n",
       " 'PORTFOLIO_Cards',\n",
       " 'PORTFOLIO_Cars',\n",
       " 'Cash',\n",
       " 'PORTFOLIO_POS',\n",
       " 'YIELD_high',\n",
       " 'YIELD_low',\n",
       " 'YIELD_middle',\n",
       " 'HOUR_APPR_PROCESS_START',\n",
       " 'WEEKDAY_APPR_PROCESS_START',\n",
       " 'NAME_TYPE_SUITE']"
      ]
     },
     "execution_count": 6,
     "metadata": {},
     "output_type": "execute_result"
    }
   ],
   "source": [
    "df3.columns.tolist()\n"
   ]
  },
  {
   "cell_type": "code",
   "execution_count": null,
   "id": "7ba73e9f-83c3-45a7-b3fb-7ab6854a2640",
   "metadata": {},
   "outputs": [],
   "source": [
    "setA=set(A)\n",
    "setB=set(B)\n",
    "setC=set(C)"
   ]
  },
  {
   "cell_type": "code",
   "execution_count": 20,
   "id": "0459086b-4c85-4b4d-99b9-0799740368b1",
   "metadata": {},
   "outputs": [],
   "source": [
    "df=df.drop(df[['REG_REGION_NOT_LIVE_REGION', 'AMT_REQ_CREDIT_BUREAU_HOUR', 'NAME_TYPE_SUITE_Children', 'NAME_HOUSING_TYPE_Office apartment', 'NAME_HOUSING_TYPE_Rented apartment', 'OCCUPATION_TYPE_Cleaning staff', 'OCCUPATION_TYPE_Cooking staff', 'OCCUPATION_TYPE_Low-skill Laborers', 'OCCUPATION_TYPE_Private service staff', 'ORGANIZATION_TYPE_Agriculture', 'ORGANIZATION_TYPE_Bank', 'ORGANIZATION_TYPE_Housing', 'ORGANIZATION_TYPE_Military', 'ORGANIZATION_TYPE_Police', 'ORGANIZATION_TYPE_Postal', 'ORGANIZATION_TYPE_Restaurant', 'ORGANIZATION_TYPE_Security', 'ORGANIZATION_TYPE_Security Ministries', 'ORGANIZATION_TYPE_Services', 'FONDKAPREMONT_MODE_not specified', 'FONDKAPREMONT_MODE_org spec account', 'WALLSMATERIAL_MODE_Mixed', 'WALLSMATERIAL_MODE_Monolithic', 'WALLSMATERIAL_MODE_Others', 'WALLSMATERIAL_MODE_Wooden']],axis=1)"
   ]
  },
  {
   "cell_type": "code",
   "execution_count": 67,
   "id": "c09ec476-08c4-495e-b067-2751d7e9d986",
   "metadata": {},
   "outputs": [],
   "source": [
    "df1=df1.drop(df1[[ 'SK_NUM_PREV',\n",
    " 'NUM_INSTALMENT_VERSION',\n",
    " 'DAYS_LATE_PAYMENT',\n",
    " 'AMT_ARREARS',\n",
    " 'PC_CNT_INSTALMENT_max',\n",
    " 'PC_CNT_INSTALMENT_mean',\n",
    " 'PC_SK_DPDMix_Max',\n",
    " 'PC_SK_DPDMix_mean',\n",
    " 'PC_Delay_total',\n",
    " 'PC_Delay_mean',\n",
    " 'PC_count','bureau_CREDIT_ACTIVE',\n",
    " 'bureau_CREDIT_Closed',\n",
    " 'bureau_CREDIT_Sold',\n",
    " 'bureau_DAYS_CREDIT',\n",
    " 'bureau_CREDIT_DAY_OVERDUE',\n",
    " 'bureau_DAYS_CREDIT_ENDDATE',\n",
    " 'bureau_DAYS_ENDDATE_FACT',\n",
    " 'bureau_CNT_CREDIT_PROLONG',\n",
    " 'bureau_AMT_CREDIT_SUM',\n",
    " 'bureau_AMT_CREDIT_SUM_DEBT',\n",
    " 'bureau_AMT_CREDIT_SUM_LIMIT',\n",
    " 'bureau_AMT_CREDIT_SUM_OVERDUE',\n",
    " 'bureau_CREDIT_TYPE_Car loan',\n",
    " 'bureau_CREDIT_TYPE_Consumer credit',\n",
    " 'bureau_CREDIT_TYPE_Credit card',\n",
    " 'bureau_CREDIT_TYPE_Microloan',\n",
    " 'bureau_CREDIT_TYPE_Mortgage',\n",
    " 'bureau_DAYS_CREDIT_UPDATE',\n",
    " 'bureau_CLOSE',\n",
    " 'bureau_SK_ID_BUREAU_counts',\n",
    " 'FLAG_DOCUMENT_RATIO',\n",
    " 'NAN']],axis=1)"
   ]
  },
  {
   "cell_type": "code",
   "execution_count": 61,
   "id": "23fcabb8-58e3-416f-8d14-ec4032162fb3",
   "metadata": {},
   "outputs": [],
   "source": [
    "a1=[1,2,3,4,5]\n",
    "b1=[2,3,4,5,6]\n",
    "a=set(a1)\n",
    "b=set(b1)"
   ]
  },
  {
   "cell_type": "code",
   "execution_count": 62,
   "id": "f7dbc2b1-3e00-447b-b55c-06ec16a35b50",
   "metadata": {},
   "outputs": [
    {
     "data": {
      "text/plain": [
       "{1}"
      ]
     },
     "execution_count": 62,
     "metadata": {},
     "output_type": "execute_result"
    }
   ],
   "source": [
    "a-b"
   ]
  },
  {
   "cell_type": "code",
   "execution_count": 21,
   "id": "e49d4e91-8acd-4088-8149-828828492f4b",
   "metadata": {},
   "outputs": [
    {
     "data": {
      "text/html": [
       "<div>\n",
       "<style scoped>\n",
       "    .dataframe tbody tr th:only-of-type {\n",
       "        vertical-align: middle;\n",
       "    }\n",
       "\n",
       "    .dataframe tbody tr th {\n",
       "        vertical-align: top;\n",
       "    }\n",
       "\n",
       "    .dataframe thead th {\n",
       "        text-align: right;\n",
       "    }\n",
       "</style>\n",
       "<table border=\"1\" class=\"dataframe\">\n",
       "  <thead>\n",
       "    <tr style=\"text-align: right;\">\n",
       "      <th></th>\n",
       "      <th>TARGET</th>\n",
       "      <th>CNT_CHILDREN</th>\n",
       "      <th>AMT_INCOME_TOTAL</th>\n",
       "      <th>NAME_EDUCATION_TYPE</th>\n",
       "      <th>DAYS_BIRTH</th>\n",
       "      <th>DAYS_EMPLOYED</th>\n",
       "      <th>DAYS_REGISTRATION</th>\n",
       "      <th>DAYS_ID_PUBLISH</th>\n",
       "      <th>FLAG_EMP_PHONE</th>\n",
       "      <th>FLAG_WORK_PHONE</th>\n",
       "      <th>...</th>\n",
       "      <th>FONDKAPREMONT_MODE_reg oper account</th>\n",
       "      <th>FONDKAPREMONT_MODE_reg oper spec account</th>\n",
       "      <th>HOUSETYPE_MODE_block of flats</th>\n",
       "      <th>WALLSMATERIAL_MODE_Block</th>\n",
       "      <th>WALLSMATERIAL_MODE_Panel</th>\n",
       "      <th>WALLSMATERIAL_MODE_Stone, brick</th>\n",
       "      <th>EMERGENCYSTATE_MODE_No</th>\n",
       "      <th>EMERGENCYSTATE_MODE_Yes</th>\n",
       "      <th>simple_labelx</th>\n",
       "      <th>scores</th>\n",
       "    </tr>\n",
       "  </thead>\n",
       "  <tbody>\n",
       "    <tr>\n",
       "      <th>0</th>\n",
       "      <td>1.0</td>\n",
       "      <td>0.0</td>\n",
       "      <td>202500.0</td>\n",
       "      <td>1.0</td>\n",
       "      <td>-9461.0</td>\n",
       "      <td>-637.0</td>\n",
       "      <td>-3648.0</td>\n",
       "      <td>-2120.0</td>\n",
       "      <td>1.0</td>\n",
       "      <td>0.0</td>\n",
       "      <td>...</td>\n",
       "      <td>1.0</td>\n",
       "      <td>0.0</td>\n",
       "      <td>1.0</td>\n",
       "      <td>0.0</td>\n",
       "      <td>0.0</td>\n",
       "      <td>1.0</td>\n",
       "      <td>1.0</td>\n",
       "      <td>0.0</td>\n",
       "      <td>0.0</td>\n",
       "      <td>96</td>\n",
       "    </tr>\n",
       "    <tr>\n",
       "      <th>1</th>\n",
       "      <td>0.0</td>\n",
       "      <td>0.0</td>\n",
       "      <td>270000.0</td>\n",
       "      <td>3.0</td>\n",
       "      <td>-16765.0</td>\n",
       "      <td>-1188.0</td>\n",
       "      <td>-1186.0</td>\n",
       "      <td>-291.0</td>\n",
       "      <td>1.0</td>\n",
       "      <td>0.0</td>\n",
       "      <td>...</td>\n",
       "      <td>1.0</td>\n",
       "      <td>0.0</td>\n",
       "      <td>1.0</td>\n",
       "      <td>1.0</td>\n",
       "      <td>0.0</td>\n",
       "      <td>0.0</td>\n",
       "      <td>1.0</td>\n",
       "      <td>0.0</td>\n",
       "      <td>0.0</td>\n",
       "      <td>100</td>\n",
       "    </tr>\n",
       "    <tr>\n",
       "      <th>2</th>\n",
       "      <td>0.0</td>\n",
       "      <td>0.0</td>\n",
       "      <td>67500.0</td>\n",
       "      <td>1.0</td>\n",
       "      <td>-19046.0</td>\n",
       "      <td>-225.0</td>\n",
       "      <td>-4260.0</td>\n",
       "      <td>-2531.0</td>\n",
       "      <td>1.0</td>\n",
       "      <td>1.0</td>\n",
       "      <td>...</td>\n",
       "      <td>0.0</td>\n",
       "      <td>0.0</td>\n",
       "      <td>0.0</td>\n",
       "      <td>0.0</td>\n",
       "      <td>0.0</td>\n",
       "      <td>0.0</td>\n",
       "      <td>0.0</td>\n",
       "      <td>0.0</td>\n",
       "      <td>0.0</td>\n",
       "      <td>100</td>\n",
       "    </tr>\n",
       "    <tr>\n",
       "      <th>3</th>\n",
       "      <td>0.0</td>\n",
       "      <td>0.0</td>\n",
       "      <td>135000.0</td>\n",
       "      <td>1.0</td>\n",
       "      <td>-19005.0</td>\n",
       "      <td>-3039.0</td>\n",
       "      <td>-9833.0</td>\n",
       "      <td>-2437.0</td>\n",
       "      <td>1.0</td>\n",
       "      <td>0.0</td>\n",
       "      <td>...</td>\n",
       "      <td>0.0</td>\n",
       "      <td>0.0</td>\n",
       "      <td>0.0</td>\n",
       "      <td>0.0</td>\n",
       "      <td>0.0</td>\n",
       "      <td>0.0</td>\n",
       "      <td>0.0</td>\n",
       "      <td>0.0</td>\n",
       "      <td>0.0</td>\n",
       "      <td>96</td>\n",
       "    </tr>\n",
       "    <tr>\n",
       "      <th>4</th>\n",
       "      <td>0.0</td>\n",
       "      <td>0.0</td>\n",
       "      <td>121500.0</td>\n",
       "      <td>1.0</td>\n",
       "      <td>-19932.0</td>\n",
       "      <td>-3038.0</td>\n",
       "      <td>-4311.0</td>\n",
       "      <td>-3458.0</td>\n",
       "      <td>1.0</td>\n",
       "      <td>0.0</td>\n",
       "      <td>...</td>\n",
       "      <td>0.0</td>\n",
       "      <td>0.0</td>\n",
       "      <td>0.0</td>\n",
       "      <td>0.0</td>\n",
       "      <td>0.0</td>\n",
       "      <td>0.0</td>\n",
       "      <td>0.0</td>\n",
       "      <td>0.0</td>\n",
       "      <td>0.0</td>\n",
       "      <td>88</td>\n",
       "    </tr>\n",
       "  </tbody>\n",
       "</table>\n",
       "<p>5 rows × 83 columns</p>\n",
       "</div>"
      ],
      "text/plain": [
       "   TARGET  CNT_CHILDREN  AMT_INCOME_TOTAL  NAME_EDUCATION_TYPE  DAYS_BIRTH  \\\n",
       "0     1.0           0.0          202500.0                  1.0     -9461.0   \n",
       "1     0.0           0.0          270000.0                  3.0    -16765.0   \n",
       "2     0.0           0.0           67500.0                  1.0    -19046.0   \n",
       "3     0.0           0.0          135000.0                  1.0    -19005.0   \n",
       "4     0.0           0.0          121500.0                  1.0    -19932.0   \n",
       "\n",
       "   DAYS_EMPLOYED  DAYS_REGISTRATION  DAYS_ID_PUBLISH  FLAG_EMP_PHONE  \\\n",
       "0         -637.0            -3648.0          -2120.0             1.0   \n",
       "1        -1188.0            -1186.0           -291.0             1.0   \n",
       "2         -225.0            -4260.0          -2531.0             1.0   \n",
       "3        -3039.0            -9833.0          -2437.0             1.0   \n",
       "4        -3038.0            -4311.0          -3458.0             1.0   \n",
       "\n",
       "   FLAG_WORK_PHONE  ...  FONDKAPREMONT_MODE_reg oper account  \\\n",
       "0              0.0  ...                                  1.0   \n",
       "1              0.0  ...                                  1.0   \n",
       "2              1.0  ...                                  0.0   \n",
       "3              0.0  ...                                  0.0   \n",
       "4              0.0  ...                                  0.0   \n",
       "\n",
       "   FONDKAPREMONT_MODE_reg oper spec account  HOUSETYPE_MODE_block of flats  \\\n",
       "0                                       0.0                            1.0   \n",
       "1                                       0.0                            1.0   \n",
       "2                                       0.0                            0.0   \n",
       "3                                       0.0                            0.0   \n",
       "4                                       0.0                            0.0   \n",
       "\n",
       "   WALLSMATERIAL_MODE_Block  WALLSMATERIAL_MODE_Panel  \\\n",
       "0                       0.0                       0.0   \n",
       "1                       1.0                       0.0   \n",
       "2                       0.0                       0.0   \n",
       "3                       0.0                       0.0   \n",
       "4                       0.0                       0.0   \n",
       "\n",
       "   WALLSMATERIAL_MODE_Stone, brick  EMERGENCYSTATE_MODE_No  \\\n",
       "0                              1.0                     1.0   \n",
       "1                              0.0                     1.0   \n",
       "2                              0.0                     0.0   \n",
       "3                              0.0                     0.0   \n",
       "4                              0.0                     0.0   \n",
       "\n",
       "   EMERGENCYSTATE_MODE_Yes  simple_labelx  scores  \n",
       "0                      0.0            0.0      96  \n",
       "1                      0.0            0.0     100  \n",
       "2                      0.0            0.0     100  \n",
       "3                      0.0            0.0      96  \n",
       "4                      0.0            0.0      88  \n",
       "\n",
       "[5 rows x 83 columns]"
      ]
     },
     "execution_count": 21,
     "metadata": {},
     "output_type": "execute_result"
    }
   ],
   "source": [
    "df.head()"
   ]
  },
  {
   "cell_type": "code",
   "execution_count": 68,
   "id": "4cb7db85-4a56-4321-8a55-7acf861db834",
   "metadata": {},
   "outputs": [],
   "source": [
    "df1.to_csv('application_train_merge_clear_nomissing_with_ylabel_dy.csv')"
   ]
  },
  {
   "cell_type": "code",
   "execution_count": 69,
   "id": "f0501977-79d7-4d27-9717-7d6138a33d0d",
   "metadata": {},
   "outputs": [
    {
     "data": {
      "text/plain": [
       "(307511, 137)"
      ]
     },
     "execution_count": 69,
     "metadata": {},
     "output_type": "execute_result"
    }
   ],
   "source": [
    "df1.shape"
   ]
  },
  {
   "cell_type": "code",
   "execution_count": null,
   "id": "66f911d9-85a4-42d2-a8dd-9b3d82f4dfe8",
   "metadata": {},
   "outputs": [],
   "source": []
  }
 ],
 "metadata": {
  "kernelspec": {
   "display_name": "Python 3 (ipykernel)",
   "language": "python",
   "name": "python3"
  },
  "language_info": {
   "codemirror_mode": {
    "name": "ipython",
    "version": 3
   },
   "file_extension": ".py",
   "mimetype": "text/x-python",
   "name": "python",
   "nbconvert_exporter": "python",
   "pygments_lexer": "ipython3",
   "version": "3.8.10"
  }
 },
 "nbformat": 4,
 "nbformat_minor": 5
}
