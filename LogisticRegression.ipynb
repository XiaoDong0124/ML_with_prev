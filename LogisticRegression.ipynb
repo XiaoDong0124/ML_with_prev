{
 "cells": [
  {
   "cell_type": "code",
   "execution_count": 1,
   "id": "847fb4c6-b805-48c6-840d-718ae032b022",
   "metadata": {},
   "outputs": [],
   "source": [
    "import pandas as pd\n",
    "import numpy as np\n",
    "#df_org=pd.read_csv(filepath+\"application_train_merge_clear_nomissing .csv\")\n",
    "df_org=pd.read_csv(\"application_train_merge_clear_nomissing_with_ylabel_dy.csv\")"
   ]
  },
  {
   "cell_type": "code",
   "execution_count": 3,
   "id": "1a70a437-d5ab-43f2-ab77-19fa394d5ae9",
   "metadata": {},
   "outputs": [],
   "source": [
    "df=df_org"
   ]
  },
  {
   "cell_type": "markdown",
   "id": "c5b99f74-11a4-4be0-a568-ba702198c19f",
   "metadata": {},
   "source": [
    "## 資料切分"
   ]
  },
  {
   "cell_type": "code",
   "execution_count": 4,
   "id": "c5b2c676-a60f-415c-b7f9-de356b5af217",
   "metadata": {},
   "outputs": [],
   "source": [
    "y_=[]#找出 違約人的索引\n",
    "for i in (df[df[\"simple_labelx\"]!=0].index):\n",
    "  y_.append(i)\n",
    "y_1=[] #找出沒違約人的索引\n",
    "for i in (df[df[\"simple_labelx\"]==0].index):\n",
    "  y_1.append(i)\n",
    "df_split=df.loc[y_]\n",
    "df_split0=df.loc[y_1]\n",
    "df_tar1=df_split.reset_index()\n",
    "df_tar0=df_split0.reset_index()\n",
    "df_tar_e=df_tar0.iloc[:57886,:] #分成同等分\n",
    "dfe=pd.concat([df_tar_e,df_tar1],ignore_index=True,axis=0)"
   ]
  },
  {
   "cell_type": "code",
   "execution_count": 8,
   "id": "47d4abe7-4c54-4f4a-a332-c41ca7a89510",
   "metadata": {},
   "outputs": [
    {
     "data": {
      "text/plain": [
       "42114"
      ]
     },
     "execution_count": 8,
     "metadata": {},
     "output_type": "execute_result"
    }
   ],
   "source": [
    "100000-57886"
   ]
  },
  {
   "cell_type": "code",
   "execution_count": 76,
   "id": "9b7c850a-6a16-4eb7-9cc7-f0619bffb22c",
   "metadata": {},
   "outputs": [],
   "source": [
    "## RFE randomforest選出來的前十個(從全部特徵裡選出來的)with prev\n",
    "df_X = dfe[['DAYS_LAST_PHONE_CHANGE', 'PREV_ANNUITY_median', 'PREV_APPLICATION_max',\n",
    "       'PREV_CREDIT_max', 'PREV_CREDIT_sum', 'DAYS_DECISION_median',\n",
    "       'CONTRACT_Cash_loans', 'CONTRACT_Consumer_loans', 'PORTFOLIO_Cash',\n",
    "       'YIELD_high']]\n",
    "df_y = dfe['simple_labelx']"
   ]
  },
  {
   "cell_type": "code",
   "execution_count": 82,
   "id": "6028bf47-c00c-4d4d-843f-7548d67749e3",
   "metadata": {},
   "outputs": [],
   "source": [
    "## RFE dicisionTree選出來的前十個(從全部特徵裡選出來的)with prev\n",
    "df_X=dfe[['DAYS_BIRTH', 'DAYS_EMPLOYED', 'DAYS_REGISTRATION', 'DAYS_ID_PUBLISH',\n",
    "       'DAYS_LAST_PHONE_CHANGE', 'PREV_ANNUITY_median', 'PREV_CREDIT_max',\n",
    "       'PREV_CREDIT_sum', 'PREV_CRE/APP_max', 'DAYS_DECISION_median']]\n",
    "df_y = dfe['simple_labelx']"
   ]
  },
  {
   "cell_type": "code",
   "execution_count": 108,
   "id": "df3a4927-130d-4866-80a3-6c30f1d00ec8",
   "metadata": {},
   "outputs": [],
   "source": [
    "df_X=dfe[['DAYS_BIRTH', 'DAYS_EMPLOYED', 'DAYS_REGISTRATION', 'DAYS_ID_PUBLISH',\n",
    "'DAYS_LAST_PHONE_CHANGE', 'PREV_ANNUITY_median','PREV_CREDIT_sum','DAYS_DECISION_median','PORTFOLIO_Cash',\n",
    "'YIELD_high']]\n",
    "df_y = dfe['simple_labelx']"
   ]
  },
  {
   "cell_type": "code",
   "execution_count": 5,
   "id": "54bc331b-92ec-4618-8a16-a136c6a34ebe",
   "metadata": {},
   "outputs": [],
   "source": [
    "from sklearn.model_selection import train_test_split\n",
    "from sklearn.preprocessing import StandardScaler\n",
    "X , y = dfe.iloc[:,5:-2] , dfe.iloc[:,-2]\n",
    "#X , y = df_X  , df_y\n",
    "stdsc = StandardScaler()\n",
    "X = stdsc.fit_transform(X)\n",
    "X_train, X_test, y_train, y_test =\\\n",
    "    train_test_split(X, y, \n",
    "                     test_size=0.1,#超過10萬9,1分比較好 \n",
    "                     #random_state=0, \n",
    "                     stratify=y)"
   ]
  },
  {
   "cell_type": "code",
   "execution_count": 105,
   "id": "f60ce201-e41f-4ef6-bd58-33254fc7710d",
   "metadata": {},
   "outputs": [
    {
     "data": {
      "text/plain": [
       "(276759, 131)"
      ]
     },
     "execution_count": 105,
     "metadata": {},
     "output_type": "execute_result"
    }
   ],
   "source": [
    "X_train.shape"
   ]
  },
  {
   "cell_type": "markdown",
   "id": "23304e1c-34c2-45e8-b74c-c9c0c7cef579",
   "metadata": {},
   "source": [
    "##　LogisticRegression"
   ]
  },
  {
   "cell_type": "code",
   "execution_count": 8,
   "id": "14684d49-9908-43b9-9540-67b71f9e924d",
   "metadata": {},
   "outputs": [
    {
     "name": "stderr",
     "output_type": "stream",
     "text": [
      "/usr/local/lib/python3.8/dist-packages/sklearn/linear_model/_logistic.py:444: ConvergenceWarning: lbfgs failed to converge (status=1):\n",
      "STOP: TOTAL NO. of ITERATIONS REACHED LIMIT.\n",
      "\n",
      "Increase the number of iterations (max_iter) or scale the data as shown in:\n",
      "    https://scikit-learn.org/stable/modules/preprocessing.html\n",
      "Please also refer to the documentation for alternative solver options:\n",
      "    https://scikit-learn.org/stable/modules/linear_model.html#logistic-regression\n",
      "  n_iter_i = _check_optimize_result(\n"
     ]
    }
   ],
   "source": [
    "from sklearn.linear_model import LogisticRegression\n",
    "from sklearn.model_selection import RepeatedStratifiedKFold\n",
    "cv = RepeatedStratifiedKFold(n_splits=10, n_repeats=3)#, random_state=1)\n",
    "# 建立Logistic模型\n",
    "logisticModel = LogisticRegression()#random_state=1)\n",
    "# 使用訓練資料訓練模型\n",
    "logisticModel.fit(X_train, y_train)\n",
    "# 使用訓練資料預測分類\n",
    "predicted = logisticModel.predict(X_train)"
   ]
  },
  {
   "cell_type": "code",
   "execution_count": 9,
   "id": "d0836a28-e41f-47da-8575-08828eae28e9",
   "metadata": {},
   "outputs": [
    {
     "name": "stdout",
     "output_type": "stream",
     "text": [
      "訓練集:  0.6499222603988714\n",
      "測試集:  0.6389704612195544\n"
     ]
    }
   ],
   "source": [
    "print('訓練集: ',logisticModel.score(X_train,y_train))\n",
    "print('測試集: ',logisticModel.score(X_test,y_test))"
   ]
  },
  {
   "cell_type": "code",
   "execution_count": 11,
   "id": "4580200e-e624-4c1e-adf9-850127d515b7",
   "metadata": {},
   "outputs": [
    {
     "name": "stdout",
     "output_type": "stream",
     "text": [
      "分類的預測結果：\n",
      "[0. 0. 0. ... 0. 1. 1.]\n",
      "真實數據：\n",
      "[0. 0. 1. ... 1. 1. 1.]\n"
     ]
    }
   ],
   "source": [
    "print('分類的預測結果：')\n",
    "pred = logisticModel.predict(X_test) \n",
    "print(pred) #觀察預測結果AA\n",
    "print('真實數據：')\n",
    "print(y_test.values)  #觀察真實數據(Test data)"
   ]
  },
  {
   "cell_type": "code",
   "execution_count": 12,
   "id": "df91ff49-0b99-4df9-9214-64c9e0a47c3f",
   "metadata": {},
   "outputs": [
    {
     "data": {
      "text/plain": [
       "0.6389704612195544"
      ]
     },
     "execution_count": 12,
     "metadata": {},
     "output_type": "execute_result"
    }
   ],
   "source": [
    "from sklearn.metrics import accuracy_score\n",
    "accuracy_score(y_test, pred)"
   ]
  },
  {
   "cell_type": "code",
   "execution_count": 18,
   "id": "08235bd9-f095-443c-86c4-f3027cef92ee",
   "metadata": {},
   "outputs": [
    {
     "data": {
      "text/plain": [
       "array([[4567, 1222],\n",
       "       [1846, 3943]])"
      ]
     },
     "execution_count": 18,
     "metadata": {},
     "output_type": "execute_result"
    }
   ],
   "source": [
    "from sklearn.metrics import confusion_matrix\n",
    "confusion_matrix(y_test, pred)"
   ]
  },
  {
   "cell_type": "markdown",
   "id": "484ab6e8-a486-4e74-b820-c941fc4b67a7",
   "metadata": {},
   "source": [
    "## another one"
   ]
  },
  {
   "cell_type": "code",
   "execution_count": 106,
   "id": "6b58ef1a-610c-47f0-9f69-f2b8d6338d32",
   "metadata": {},
   "outputs": [],
   "source": [
    "from sklearn.linear_model import LogisticRegression\n",
    "#from sklearn.model_selection import RepeatedStratifiedKFold\n",
    "#cv = RepeatedStratifiedKFold(n_splits=10, n_repeats=3)#, random_state=1)\n",
    "# 建立Logistic模型\n",
    "logisticModel = LogisticRegression(penalty='l1',C=1.0, solver='liblinear')#random_state=1)\n",
    "# 使用訓練資料訓練模型\n",
    "logisticModel.fit(X_train, y_train)\n",
    "# 使用訓練資料預測分類\n",
    "predicted = logisticModel.predict(X_train)"
   ]
  },
  {
   "cell_type": "code",
   "execution_count": 107,
   "id": "9ecafaef-29dd-44cd-b39c-32c581bfb7e1",
   "metadata": {},
   "outputs": [
    {
     "name": "stdout",
     "output_type": "stream",
     "text": [
      "訓練集:  0.8101199960976879\n",
      "測試集:  0.8100936524453695\n"
     ]
    }
   ],
   "source": [
    "print('訓練集: ',logisticModel.score(X_train,y_train))\n",
    "print('測試集: ',logisticModel.score(X_test,y_test))"
   ]
  },
  {
   "cell_type": "code",
   "execution_count": 22,
   "id": "47c998a4-6fbc-41af-99a5-133bdcd5191d",
   "metadata": {},
   "outputs": [
    {
     "data": {
      "text/plain": [
       "array([0.00051962])"
      ]
     },
     "execution_count": 22,
     "metadata": {},
     "output_type": "execute_result"
    }
   ],
   "source": [
    "logisticModel.intercept_"
   ]
  },
  {
   "cell_type": "code",
   "execution_count": 23,
   "id": "97038f8c-29d4-481c-a67d-f8159d4ff1dd",
   "metadata": {},
   "outputs": [],
   "source": [
    "np.set_printoptions(8)"
   ]
  },
  {
   "cell_type": "code",
   "execution_count": 24,
   "id": "28ee617e-cc4b-4d5e-a4ba-60b5c13f3153",
   "metadata": {},
   "outputs": [
    {
     "data": {
      "text/plain": [
       "(77,)"
      ]
     },
     "execution_count": 24,
     "metadata": {},
     "output_type": "execute_result"
    }
   ],
   "source": [
    "logisticModel.coef_[logisticModel.coef_!=0].shape"
   ]
  },
  {
   "cell_type": "code",
   "execution_count": 25,
   "id": "8d14331c-8bea-4447-9f0d-704e29fff934",
   "metadata": {},
   "outputs": [
    {
     "data": {
      "text/plain": [
       "array([[ 5.04348193e-02, -1.95373564e-02, -6.64311388e-02,\n",
       "        -1.99471812e-02, -2.31741011e-02, -2.79149531e-03,\n",
       "        -6.14923815e-04,  1.50356504e-03,  1.26300680e-02,\n",
       "         4.38843211e-02,  3.59942938e-02,  0.00000000e+00,\n",
       "        -3.86904372e-03, -2.46125174e-02,  2.91786762e-02,\n",
       "         1.19518821e-02, -1.36898197e-02,  3.22267155e-02,\n",
       "         2.24356855e-02,  4.62983568e-02, -2.29705634e-01,\n",
       "         5.42748617e-03,  3.12115093e-02, -3.25905313e-02,\n",
       "         2.06778518e-01,  9.48060070e-02, -5.65571995e-05,\n",
       "         0.00000000e+00, -1.74435932e-02, -6.41065005e-03,\n",
       "         6.89085402e-03,  7.01022377e-03, -1.40781947e-06,\n",
       "        -1.14272807e-02, -1.77841803e-02, -4.42658850e-03,\n",
       "        -1.05174734e-01, -3.45659746e-01, -5.38818523e-02,\n",
       "        -1.18067288e-01,  5.10230420e-03, -1.02449838e-02,\n",
       "         5.48891719e-03, -2.60287348e-02,  1.12400661e-03,\n",
       "        -5.10586499e-04,  2.31011326e-02,  4.82626631e-03,\n",
       "        -1.51270090e-02, -1.24561740e-02,  3.60049330e-03,\n",
       "        -1.42700278e-02, -8.64471293e-03, -1.40347605e-02,\n",
       "        -2.06376472e-02, -7.97760087e-03, -1.43503442e-03,\n",
       "         0.00000000e+00,  7.66913767e-03,  1.76138168e-03,\n",
       "        -9.77717839e-03, -1.10120949e-03,  1.02146586e-02,\n",
       "        -9.47081102e-05,  2.48958710e-02,  2.85279026e-03,\n",
       "         2.23989530e-03,  1.65249466e-02,  8.96671567e-03,\n",
       "         1.35034660e-02,  9.95184322e-03,  2.54127138e-01,\n",
       "        -2.89417218e-03,  8.81507444e-03, -1.29868198e-02,\n",
       "         5.71154264e-03,  8.63750746e-04, -1.65233752e-02,\n",
       "        -3.09897855e-02,  6.85006169e-03]])"
      ]
     },
     "execution_count": 25,
     "metadata": {},
     "output_type": "execute_result"
    }
   ],
   "source": [
    "logisticModel.coef_"
   ]
  },
  {
   "cell_type": "code",
   "execution_count": 95,
   "id": "a2881acf-da5e-4bf3-8b84-d5ce509c1bf7",
   "metadata": {},
   "outputs": [
    {
     "data": {
      "text/plain": [
       "['Unnamed: 0.1',\n",
       " 'Unnamed: 0',\n",
       " 'SK_ID_CURR',\n",
       " 'TARGET',\n",
       " 'CNT_CHILDREN',\n",
       " 'AMT_INCOME_TOTAL',\n",
       " 'NAME_EDUCATION_TYPE',\n",
       " 'DAYS_BIRTH',\n",
       " 'DAYS_EMPLOYED',\n",
       " 'DAYS_REGISTRATION',\n",
       " 'DAYS_ID_PUBLISH',\n",
       " 'FLAG_EMP_PHONE',\n",
       " 'FLAG_WORK_PHONE',\n",
       " 'FLAG_PHONE',\n",
       " 'FLAG_EMAIL',\n",
       " 'CNT_FAM_MEMBERS',\n",
       " 'HOUR_APPR_PROCESS_START_x',\n",
       " 'REG_REGION_NOT_LIVE_REGION',\n",
       " 'REG_REGION_NOT_WORK_REGION',\n",
       " 'LIVE_REGION_NOT_WORK_REGION',\n",
       " 'REG_CITY_NOT_LIVE_CITY',\n",
       " 'REG_CITY_NOT_WORK_CITY',\n",
       " 'LIVE_CITY_NOT_WORK_CITY',\n",
       " 'OBS_60_CNT_SOCIAL_CIRCLE',\n",
       " 'DEF_60_CNT_SOCIAL_CIRCLE',\n",
       " 'DAYS_LAST_PHONE_CHANGE',\n",
       " 'AMT_REQ_CREDIT_BUREAU_HOUR',\n",
       " 'AMT_REQ_CREDIT_BUREAU_WEEK',\n",
       " 'AMT_REQ_CREDIT_BUREAU_MON',\n",
       " 'AMT_REQ_CREDIT_BUREAU_QRT',\n",
       " 'AMT_REQ_CREDIT_BUREAU_YEAR',\n",
       " 'NAME_CONTRACT_TYPE_Cash loans',\n",
       " 'NAME_CONTRACT_TYPE_Revolving loans',\n",
       " 'CODE_GENDER_F',\n",
       " 'CODE_GENDER_M',\n",
       " 'FLAG_OWN_CAR_N',\n",
       " 'FLAG_OWN_CAR_Y',\n",
       " 'FLAG_OWN_REALTY_N',\n",
       " 'FLAG_OWN_REALTY_Y',\n",
       " 'NAME_TYPE_SUITE_Children',\n",
       " 'NAME_TYPE_SUITE_Family',\n",
       " 'NAME_TYPE_SUITE_Spouse, partner',\n",
       " 'NAME_TYPE_SUITE_Unaccompanied',\n",
       " 'NAME_INCOME_TYPE_Commercial associate',\n",
       " 'NAME_INCOME_TYPE_Pensioner',\n",
       " 'NAME_INCOME_TYPE_State servant',\n",
       " 'NAME_INCOME_TYPE_Working',\n",
       " 'NAME_FAMILY_STATUS_Civil marriage',\n",
       " 'NAME_FAMILY_STATUS_Married',\n",
       " 'NAME_FAMILY_STATUS_Separated',\n",
       " 'NAME_FAMILY_STATUS_Single / not married',\n",
       " 'NAME_FAMILY_STATUS_Widow',\n",
       " 'NAME_HOUSING_TYPE_House / apartment',\n",
       " 'NAME_HOUSING_TYPE_Municipal apartment',\n",
       " 'NAME_HOUSING_TYPE_Office apartment',\n",
       " 'NAME_HOUSING_TYPE_Rented apartment',\n",
       " 'NAME_HOUSING_TYPE_With parents',\n",
       " 'OCCUPATION_TYPE_Accountants',\n",
       " 'OCCUPATION_TYPE_Cleaning staff',\n",
       " 'OCCUPATION_TYPE_Cooking staff',\n",
       " 'OCCUPATION_TYPE_Core staff',\n",
       " 'OCCUPATION_TYPE_Drivers',\n",
       " 'OCCUPATION_TYPE_High skill tech staff',\n",
       " 'OCCUPATION_TYPE_Laborers',\n",
       " 'OCCUPATION_TYPE_Low-skill Laborers',\n",
       " 'OCCUPATION_TYPE_Managers',\n",
       " 'OCCUPATION_TYPE_Medicine staff',\n",
       " 'OCCUPATION_TYPE_Private service staff',\n",
       " 'OCCUPATION_TYPE_Sales staff',\n",
       " 'OCCUPATION_TYPE_Security staff',\n",
       " 'WEEKDAY_APPR_PROCESS_START_FRIDAY',\n",
       " 'WEEKDAY_APPR_PROCESS_START_MONDAY',\n",
       " 'WEEKDAY_APPR_PROCESS_START_SATURDAY',\n",
       " 'WEEKDAY_APPR_PROCESS_START_SUNDAY',\n",
       " 'WEEKDAY_APPR_PROCESS_START_THURSDAY',\n",
       " 'WEEKDAY_APPR_PROCESS_START_TUESDAY',\n",
       " 'WEEKDAY_APPR_PROCESS_START_WEDNESDAY',\n",
       " 'ORGANIZATION_TYPE_Agriculture',\n",
       " 'ORGANIZATION_TYPE_Bank',\n",
       " 'ORGANIZATION_TYPE_Construction',\n",
       " 'ORGANIZATION_TYPE_Government',\n",
       " 'ORGANIZATION_TYPE_Housing',\n",
       " 'ORGANIZATION_TYPE_Kindergarten',\n",
       " 'ORGANIZATION_TYPE_Medicine',\n",
       " 'ORGANIZATION_TYPE_Military',\n",
       " 'ORGANIZATION_TYPE_Other',\n",
       " 'ORGANIZATION_TYPE_Police',\n",
       " 'ORGANIZATION_TYPE_Postal',\n",
       " 'ORGANIZATION_TYPE_Restaurant',\n",
       " 'ORGANIZATION_TYPE_School',\n",
       " 'ORGANIZATION_TYPE_Security',\n",
       " 'ORGANIZATION_TYPE_Security Ministries',\n",
       " 'ORGANIZATION_TYPE_Self-employed',\n",
       " 'ORGANIZATION_TYPE_Services',\n",
       " 'ORGANIZATION_TYPE_XNA',\n",
       " 'FONDKAPREMONT_MODE_not specified',\n",
       " 'FONDKAPREMONT_MODE_org spec account',\n",
       " 'FONDKAPREMONT_MODE_reg oper account',\n",
       " 'FONDKAPREMONT_MODE_reg oper spec account',\n",
       " 'HOUSETYPE_MODE_block of flats',\n",
       " 'WALLSMATERIAL_MODE_Block',\n",
       " 'WALLSMATERIAL_MODE_Mixed',\n",
       " 'WALLSMATERIAL_MODE_Monolithic',\n",
       " 'WALLSMATERIAL_MODE_Others',\n",
       " 'WALLSMATERIAL_MODE_Panel',\n",
       " 'WALLSMATERIAL_MODE_Stone, brick',\n",
       " 'WALLSMATERIAL_MODE_Wooden',\n",
       " 'EMERGENCYSTATE_MODE_No',\n",
       " 'EMERGENCYSTATE_MODE_Yes',\n",
       " 'PREV_ANNUITY_median',\n",
       " 'PREV_APPLICATION_max',\n",
       " 'PREV_CREDIT_max',\n",
       " 'PREV_CREDIT_sum',\n",
       " 'PREV_DOWN_PAYMENT_median',\n",
       " 'PREV_GOODS_PRICE_max',\n",
       " 'PREV_CRE/APP_max',\n",
       " 'RATE_DOWN_PAYMENT_median',\n",
       " 'RATE_INTEREST_PRIMARY_median',\n",
       " 'RATE_INTEREST_PRIMARY_max',\n",
       " 'DAYS_DECISION_median',\n",
       " 'CNT_PAYMENT_median',\n",
       " 'DAYS_PERIOD_median',\n",
       " 'CONTRACT_Cash_loans',\n",
       " 'CONTRACT_Consumer_loans',\n",
       " 'CONTRACT_Revolving_loans',\n",
       " 'Cash through the bank',\n",
       " 'Non-cash from your account',\n",
       " 'PORTFOLIO_Cards',\n",
       " 'PORTFOLIO_Cash',\n",
       " 'PORTFOLIO_POS',\n",
       " 'YIELD_high',\n",
       " 'YIELD_low',\n",
       " 'YIELD_middle',\n",
       " 'HOUR_APPR_PROCESS_START_y',\n",
       " 'WEEKDAY_APPR_PROCESS_START',\n",
       " 'NAME_TYPE_SUITE',\n",
       " 'simple_labelx',\n",
       " 'scores']"
      ]
     },
     "execution_count": 95,
     "metadata": {},
     "output_type": "execute_result"
    }
   ],
   "source": [
    "df.columns.tolist()"
   ]
  },
  {
   "cell_type": "code",
   "execution_count": null,
   "id": "8a2a034c-2753-4c04-89e4-9f194c4efce0",
   "metadata": {},
   "outputs": [],
   "source": []
  }
 ],
 "metadata": {
  "kernelspec": {
   "display_name": "Python 3 (ipykernel)",
   "language": "python",
   "name": "python3"
  },
  "language_info": {
   "codemirror_mode": {
    "name": "ipython",
    "version": 3
   },
   "file_extension": ".py",
   "mimetype": "text/x-python",
   "name": "python",
   "nbconvert_exporter": "python",
   "pygments_lexer": "ipython3",
   "version": "3.8.10"
  }
 },
 "nbformat": 4,
 "nbformat_minor": 5
}
