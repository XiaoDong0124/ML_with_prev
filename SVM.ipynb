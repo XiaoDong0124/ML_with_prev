{
 "cells": [
  {
   "cell_type": "code",
   "execution_count": 2,
   "id": "a974c8e3-6e5e-4de5-a5b7-72518979603d",
   "metadata": {},
   "outputs": [],
   "source": [
    "import pandas as pd\n",
    "import numpy as np\n",
    "#df_org=pd.read_csv(filepath+\"application_train_merge_clear_nomissing .csv\")\n",
    "df_org=pd.read_csv(\"application_train_merge_clear_nomissing_with_ylabel_dy.csv\")"
   ]
  },
  {
   "cell_type": "code",
   "execution_count": 3,
   "id": "b9c66c2a-f04a-4291-97f1-7eaf21c7ac05",
   "metadata": {},
   "outputs": [],
   "source": [
    "df=df_org"
   ]
  },
  {
   "cell_type": "markdown",
   "id": "e57a4994-05f3-4601-ad59-7f83df7ae9e7",
   "metadata": {},
   "source": [
    "## 資料切分"
   ]
  },
  {
   "cell_type": "code",
   "execution_count": 13,
   "id": "fb4a60e7-09ea-41d7-81c5-54a1c770eeee",
   "metadata": {},
   "outputs": [],
   "source": [
    "y_=[]#找出 違約人的索引\n",
    "for i in (df[df[\"simple_labelx\"]!=0].index):\n",
    "  y_.append(i)\n",
    "y_1=[] #找出沒違約人的索引\n",
    "for i in (df[df[\"simple_labelx\"]==0].index):\n",
    "  y_1.append(i)\n",
    "df_split=df.loc[y_]\n",
    "df_split0=df.loc[y_1]\n",
    "df_tar1=df_split.reset_index()\n",
    "df_tar0=df_split0.reset_index()\n",
    "df_tar_e=df_tar0.iloc[:57886,:] #分成同等分\n",
    "dfe=pd.concat([df_tar_e,df_tar1],ignore_index=True,axis=0)"
   ]
  },
  {
   "cell_type": "code",
   "execution_count": 4,
   "id": "428478ed-8268-41fe-98df-04d14af0de98",
   "metadata": {},
   "outputs": [],
   "source": [
    "df_X = dfe[['AMT_INCOME_TOTAL', 'DAYS_BIRTH', 'DAYS_EMPLOYED', 'DAYS_REGISTRATION',\n",
    "       'DAYS_ID_PUBLISH', 'CNT_FAM_MEMBERS', 'HOUR_APPR_PROCESS_START_x',\n",
    "       'OBS_60_CNT_SOCIAL_CIRCLE', 'DAYS_LAST_PHONE_CHANGE',\n",
    "       'AMT_REQ_CREDIT_BUREAU_YEAR']]\n",
    "df_y = dfe['simple_labelx']"
   ]
  },
  {
   "cell_type": "code",
   "execution_count": 5,
   "id": "5be4e71a-87d9-4b8d-8068-ab036bcef1e7",
   "metadata": {},
   "outputs": [],
   "source": [
    "## RFE randomforest選出來的前十個(從全部特徵裡選出來的)with prev\n",
    "df_X = dfe[['DAYS_LAST_PHONE_CHANGE', 'PREV_ANNUITY_median', 'PREV_APPLICATION_max',\n",
    "       'PREV_CREDIT_max', 'PREV_CREDIT_sum', 'DAYS_DECISION_median',\n",
    "       'CONTRACT_Cash_loans', 'CONTRACT_Consumer_loans', 'PORTFOLIO_Cash',\n",
    "       'YIELD_high']]\n",
    "df_y = dfe['simple_labelx']"
   ]
  },
  {
   "cell_type": "code",
   "execution_count": 9,
   "id": "b2c7585f-d5fb-4680-9274-a02da348803d",
   "metadata": {},
   "outputs": [],
   "source": [
    "## RFE dicisionTree選出來的前十個(從全部特徵裡選出來的)with prev\n",
    "df_X=dfe[['DAYS_BIRTH', 'DAYS_EMPLOYED', 'DAYS_REGISTRATION', 'DAYS_ID_PUBLISH',\n",
    "       'DAYS_LAST_PHONE_CHANGE', 'PREV_ANNUITY_median', 'PREV_CREDIT_max',\n",
    "       'PREV_CREDIT_sum', 'PREV_CRE/APP_max', 'DAYS_DECISION_median']]\n",
    "df_y = dfe['simple_labelx']"
   ]
  },
  {
   "cell_type": "code",
   "execution_count": 14,
   "id": "dc59e5ad-8ed2-4aa1-8b23-c7ce5b6d7d25",
   "metadata": {},
   "outputs": [
    {
     "data": {
      "text/html": [
       "<div>\n",
       "<style scoped>\n",
       "    .dataframe tbody tr th:only-of-type {\n",
       "        vertical-align: middle;\n",
       "    }\n",
       "\n",
       "    .dataframe tbody tr th {\n",
       "        vertical-align: top;\n",
       "    }\n",
       "\n",
       "    .dataframe thead th {\n",
       "        text-align: right;\n",
       "    }\n",
       "</style>\n",
       "<table border=\"1\" class=\"dataframe\">\n",
       "  <thead>\n",
       "    <tr style=\"text-align: right;\">\n",
       "      <th></th>\n",
       "      <th>index</th>\n",
       "      <th>Unnamed: 0.1</th>\n",
       "      <th>Unnamed: 0</th>\n",
       "      <th>SK_ID_CURR</th>\n",
       "      <th>TARGET</th>\n",
       "      <th>CNT_CHILDREN</th>\n",
       "      <th>AMT_INCOME_TOTAL</th>\n",
       "      <th>NAME_EDUCATION_TYPE</th>\n",
       "      <th>DAYS_BIRTH</th>\n",
       "      <th>DAYS_EMPLOYED</th>\n",
       "      <th>...</th>\n",
       "      <th>PORTFOLIO_Cash</th>\n",
       "      <th>PORTFOLIO_POS</th>\n",
       "      <th>YIELD_high</th>\n",
       "      <th>YIELD_low</th>\n",
       "      <th>YIELD_middle</th>\n",
       "      <th>HOUR_APPR_PROCESS_START_y</th>\n",
       "      <th>WEEKDAY_APPR_PROCESS_START</th>\n",
       "      <th>NAME_TYPE_SUITE</th>\n",
       "      <th>simple_labelx</th>\n",
       "      <th>scores</th>\n",
       "    </tr>\n",
       "  </thead>\n",
       "  <tbody>\n",
       "    <tr>\n",
       "      <th>0</th>\n",
       "      <td>0</td>\n",
       "      <td>0</td>\n",
       "      <td>0</td>\n",
       "      <td>100002</td>\n",
       "      <td>1.0</td>\n",
       "      <td>0.0</td>\n",
       "      <td>202500.0</td>\n",
       "      <td>1.0</td>\n",
       "      <td>-9461.0</td>\n",
       "      <td>-637.0</td>\n",
       "      <td>...</td>\n",
       "      <td>0.000000</td>\n",
       "      <td>1.000000</td>\n",
       "      <td>0.000000</td>\n",
       "      <td>1.000000</td>\n",
       "      <td>0.000000</td>\n",
       "      <td>9.0</td>\n",
       "      <td>6.0</td>\n",
       "      <td>0.0</td>\n",
       "      <td>0.0</td>\n",
       "      <td>96</td>\n",
       "    </tr>\n",
       "    <tr>\n",
       "      <th>1</th>\n",
       "      <td>1</td>\n",
       "      <td>1</td>\n",
       "      <td>1</td>\n",
       "      <td>100003</td>\n",
       "      <td>0.0</td>\n",
       "      <td>0.0</td>\n",
       "      <td>270000.0</td>\n",
       "      <td>3.0</td>\n",
       "      <td>-16765.0</td>\n",
       "      <td>-1188.0</td>\n",
       "      <td>...</td>\n",
       "      <td>0.333333</td>\n",
       "      <td>0.666667</td>\n",
       "      <td>0.000000</td>\n",
       "      <td>0.333333</td>\n",
       "      <td>0.666667</td>\n",
       "      <td>12.0</td>\n",
       "      <td>5.0</td>\n",
       "      <td>1.0</td>\n",
       "      <td>0.0</td>\n",
       "      <td>100</td>\n",
       "    </tr>\n",
       "    <tr>\n",
       "      <th>2</th>\n",
       "      <td>2</td>\n",
       "      <td>2</td>\n",
       "      <td>2</td>\n",
       "      <td>100004</td>\n",
       "      <td>0.0</td>\n",
       "      <td>0.0</td>\n",
       "      <td>67500.0</td>\n",
       "      <td>1.0</td>\n",
       "      <td>-19046.0</td>\n",
       "      <td>-225.0</td>\n",
       "      <td>...</td>\n",
       "      <td>0.000000</td>\n",
       "      <td>1.000000</td>\n",
       "      <td>0.000000</td>\n",
       "      <td>0.000000</td>\n",
       "      <td>1.000000</td>\n",
       "      <td>5.0</td>\n",
       "      <td>5.0</td>\n",
       "      <td>0.0</td>\n",
       "      <td>0.0</td>\n",
       "      <td>100</td>\n",
       "    </tr>\n",
       "    <tr>\n",
       "      <th>3</th>\n",
       "      <td>3</td>\n",
       "      <td>3</td>\n",
       "      <td>3</td>\n",
       "      <td>100006</td>\n",
       "      <td>0.0</td>\n",
       "      <td>0.0</td>\n",
       "      <td>135000.0</td>\n",
       "      <td>1.0</td>\n",
       "      <td>-19005.0</td>\n",
       "      <td>-3039.0</td>\n",
       "      <td>...</td>\n",
       "      <td>0.500000</td>\n",
       "      <td>0.333333</td>\n",
       "      <td>0.333333</td>\n",
       "      <td>0.333333</td>\n",
       "      <td>0.166667</td>\n",
       "      <td>15.0</td>\n",
       "      <td>4.0</td>\n",
       "      <td>0.0</td>\n",
       "      <td>0.0</td>\n",
       "      <td>96</td>\n",
       "    </tr>\n",
       "    <tr>\n",
       "      <th>4</th>\n",
       "      <td>4</td>\n",
       "      <td>4</td>\n",
       "      <td>4</td>\n",
       "      <td>100007</td>\n",
       "      <td>0.0</td>\n",
       "      <td>0.0</td>\n",
       "      <td>121500.0</td>\n",
       "      <td>1.0</td>\n",
       "      <td>-19932.0</td>\n",
       "      <td>-3038.0</td>\n",
       "      <td>...</td>\n",
       "      <td>0.666667</td>\n",
       "      <td>0.333333</td>\n",
       "      <td>0.500000</td>\n",
       "      <td>0.000000</td>\n",
       "      <td>0.500000</td>\n",
       "      <td>13.0</td>\n",
       "      <td>7.0</td>\n",
       "      <td>0.0</td>\n",
       "      <td>0.0</td>\n",
       "      <td>88</td>\n",
       "    </tr>\n",
       "  </tbody>\n",
       "</table>\n",
       "<p>5 rows × 139 columns</p>\n",
       "</div>"
      ],
      "text/plain": [
       "   index  Unnamed: 0.1  Unnamed: 0  SK_ID_CURR  TARGET  CNT_CHILDREN  \\\n",
       "0      0             0           0      100002     1.0           0.0   \n",
       "1      1             1           1      100003     0.0           0.0   \n",
       "2      2             2           2      100004     0.0           0.0   \n",
       "3      3             3           3      100006     0.0           0.0   \n",
       "4      4             4           4      100007     0.0           0.0   \n",
       "\n",
       "   AMT_INCOME_TOTAL  NAME_EDUCATION_TYPE  DAYS_BIRTH  DAYS_EMPLOYED  ...  \\\n",
       "0          202500.0                  1.0     -9461.0         -637.0  ...   \n",
       "1          270000.0                  3.0    -16765.0        -1188.0  ...   \n",
       "2           67500.0                  1.0    -19046.0         -225.0  ...   \n",
       "3          135000.0                  1.0    -19005.0        -3039.0  ...   \n",
       "4          121500.0                  1.0    -19932.0        -3038.0  ...   \n",
       "\n",
       "   PORTFOLIO_Cash  PORTFOLIO_POS  YIELD_high  YIELD_low  YIELD_middle  \\\n",
       "0        0.000000       1.000000    0.000000   1.000000      0.000000   \n",
       "1        0.333333       0.666667    0.000000   0.333333      0.666667   \n",
       "2        0.000000       1.000000    0.000000   0.000000      1.000000   \n",
       "3        0.500000       0.333333    0.333333   0.333333      0.166667   \n",
       "4        0.666667       0.333333    0.500000   0.000000      0.500000   \n",
       "\n",
       "   HOUR_APPR_PROCESS_START_y  WEEKDAY_APPR_PROCESS_START  NAME_TYPE_SUITE  \\\n",
       "0                        9.0                         6.0              0.0   \n",
       "1                       12.0                         5.0              1.0   \n",
       "2                        5.0                         5.0              0.0   \n",
       "3                       15.0                         4.0              0.0   \n",
       "4                       13.0                         7.0              0.0   \n",
       "\n",
       "   simple_labelx  scores  \n",
       "0            0.0      96  \n",
       "1            0.0     100  \n",
       "2            0.0     100  \n",
       "3            0.0      96  \n",
       "4            0.0      88  \n",
       "\n",
       "[5 rows x 139 columns]"
      ]
     },
     "execution_count": 14,
     "metadata": {},
     "output_type": "execute_result"
    }
   ],
   "source": [
    "dfe.head()"
   ]
  },
  {
   "cell_type": "code",
   "execution_count": 15,
   "id": "38513c6b-7771-47d4-a0de-2726d9a95512",
   "metadata": {},
   "outputs": [],
   "source": [
    "from sklearn.model_selection import train_test_split\n",
    "from sklearn.preprocessing import StandardScaler\n",
    "X , y = dfe.iloc[:,5:-2] , dfe.iloc[:,-2]\n",
    "#X , y = df_X  , df_y\n",
    "stdsc = StandardScaler()\n",
    "X = stdsc.fit_transform(X)\n",
    "X_train, X_test, y_train, y_test =\\\n",
    "    train_test_split(X, y, \n",
    "                     test_size=0.1,#超過10萬9,1分比較好 \n",
    "                     #random_state=0, \n",
    "                     stratify=y)\n"
   ]
  },
  {
   "cell_type": "code",
   "execution_count": 9,
   "id": "b3021690-e277-414b-9e45-65fbc939fdae",
   "metadata": {},
   "outputs": [
    {
     "data": {
      "text/plain": [
       "array([[-0.58123938,  0.09490577, -0.56423729, ...,  1.95922194,\n",
       "         0.97883702, -0.08796765],\n",
       "       [-0.58123938,  0.28424476,  1.75353303, ..., -0.5104067 ,\n",
       "         0.97883702, -0.08796765],\n",
       "       [-0.58123938, -0.28377222, -0.56423729, ..., -0.5104067 ,\n",
       "        -1.02162053, -0.08796765],\n",
       "       ...,\n",
       "       [-0.58123938, -0.04394283, -0.56423729, ..., -0.5104067 ,\n",
       "        -1.02162053, -0.08796765],\n",
       "       [-0.58123938, -0.04394283,  1.75353303, ..., -0.5104067 ,\n",
       "         0.97883702, -0.08796765],\n",
       "       [-0.58123938, -0.03132023,  1.75353303, ..., -0.5104067 ,\n",
       "         0.97883702, -0.08796765]])"
      ]
     },
     "execution_count": 9,
     "metadata": {},
     "output_type": "execute_result"
    }
   ],
   "source": [
    "import numpy as np\n",
    "from sklearn.decomposition import PCA"
   ]
  },
  {
   "cell_type": "markdown",
   "id": "dd9c1028-b7fe-4c3c-a43f-6e88b1b9a10a",
   "metadata": {},
   "source": [
    "## SVM模型匯入"
   ]
  },
  {
   "cell_type": "code",
   "execution_count": 16,
   "id": "33ff0d1a-48ea-4d95-9e71-3ec250e91ba9",
   "metadata": {},
   "outputs": [
    {
     "data": {
      "text/html": [
       "<style>#sk-container-id-3 {color: black;background-color: white;}#sk-container-id-3 pre{padding: 0;}#sk-container-id-3 div.sk-toggleable {background-color: white;}#sk-container-id-3 label.sk-toggleable__label {cursor: pointer;display: block;width: 100%;margin-bottom: 0;padding: 0.3em;box-sizing: border-box;text-align: center;}#sk-container-id-3 label.sk-toggleable__label-arrow:before {content: \"▸\";float: left;margin-right: 0.25em;color: #696969;}#sk-container-id-3 label.sk-toggleable__label-arrow:hover:before {color: black;}#sk-container-id-3 div.sk-estimator:hover label.sk-toggleable__label-arrow:before {color: black;}#sk-container-id-3 div.sk-toggleable__content {max-height: 0;max-width: 0;overflow: hidden;text-align: left;background-color: #f0f8ff;}#sk-container-id-3 div.sk-toggleable__content pre {margin: 0.2em;color: black;border-radius: 0.25em;background-color: #f0f8ff;}#sk-container-id-3 input.sk-toggleable__control:checked~div.sk-toggleable__content {max-height: 200px;max-width: 100%;overflow: auto;}#sk-container-id-3 input.sk-toggleable__control:checked~label.sk-toggleable__label-arrow:before {content: \"▾\";}#sk-container-id-3 div.sk-estimator input.sk-toggleable__control:checked~label.sk-toggleable__label {background-color: #d4ebff;}#sk-container-id-3 div.sk-label input.sk-toggleable__control:checked~label.sk-toggleable__label {background-color: #d4ebff;}#sk-container-id-3 input.sk-hidden--visually {border: 0;clip: rect(1px 1px 1px 1px);clip: rect(1px, 1px, 1px, 1px);height: 1px;margin: -1px;overflow: hidden;padding: 0;position: absolute;width: 1px;}#sk-container-id-3 div.sk-estimator {font-family: monospace;background-color: #f0f8ff;border: 1px dotted black;border-radius: 0.25em;box-sizing: border-box;margin-bottom: 0.5em;}#sk-container-id-3 div.sk-estimator:hover {background-color: #d4ebff;}#sk-container-id-3 div.sk-parallel-item::after {content: \"\";width: 100%;border-bottom: 1px solid gray;flex-grow: 1;}#sk-container-id-3 div.sk-label:hover label.sk-toggleable__label {background-color: #d4ebff;}#sk-container-id-3 div.sk-serial::before {content: \"\";position: absolute;border-left: 1px solid gray;box-sizing: border-box;top: 0;bottom: 0;left: 50%;z-index: 0;}#sk-container-id-3 div.sk-serial {display: flex;flex-direction: column;align-items: center;background-color: white;padding-right: 0.2em;padding-left: 0.2em;position: relative;}#sk-container-id-3 div.sk-item {position: relative;z-index: 1;}#sk-container-id-3 div.sk-parallel {display: flex;align-items: stretch;justify-content: center;background-color: white;position: relative;}#sk-container-id-3 div.sk-item::before, #sk-container-id-3 div.sk-parallel-item::before {content: \"\";position: absolute;border-left: 1px solid gray;box-sizing: border-box;top: 0;bottom: 0;left: 50%;z-index: -1;}#sk-container-id-3 div.sk-parallel-item {display: flex;flex-direction: column;z-index: 1;position: relative;background-color: white;}#sk-container-id-3 div.sk-parallel-item:first-child::after {align-self: flex-end;width: 50%;}#sk-container-id-3 div.sk-parallel-item:last-child::after {align-self: flex-start;width: 50%;}#sk-container-id-3 div.sk-parallel-item:only-child::after {width: 0;}#sk-container-id-3 div.sk-dashed-wrapped {border: 1px dashed gray;margin: 0 0.4em 0.5em 0.4em;box-sizing: border-box;padding-bottom: 0.4em;background-color: white;}#sk-container-id-3 div.sk-label label {font-family: monospace;font-weight: bold;display: inline-block;line-height: 1.2em;}#sk-container-id-3 div.sk-label-container {text-align: center;}#sk-container-id-3 div.sk-container {/* jupyter's `normalize.less` sets `[hidden] { display: none; }` but bootstrap.min.css set `[hidden] { display: none !important; }` so we also need the `!important` here to be able to override the default hidden behavior on the sphinx rendered scikit-learn.org. See: https://github.com/scikit-learn/scikit-learn/issues/21755 */display: inline-block !important;position: relative;}#sk-container-id-3 div.sk-text-repr-fallback {display: none;}</style><div id=\"sk-container-id-3\" class=\"sk-top-container\"><div class=\"sk-text-repr-fallback\"><pre>Pipeline(steps=[(&#x27;standardscaler&#x27;, StandardScaler()),\n",
       "                (&#x27;svc&#x27;, SVC(gamma=&#x27;auto&#x27;))])</pre><b>In a Jupyter environment, please rerun this cell to show the HTML representation or trust the notebook. <br />On GitHub, the HTML representation is unable to render, please try loading this page with nbviewer.org.</b></div><div class=\"sk-container\" hidden><div class=\"sk-item sk-dashed-wrapped\"><div class=\"sk-label-container\"><div class=\"sk-label sk-toggleable\"><input class=\"sk-toggleable__control sk-hidden--visually\" id=\"sk-estimator-id-7\" type=\"checkbox\" ><label for=\"sk-estimator-id-7\" class=\"sk-toggleable__label sk-toggleable__label-arrow\">Pipeline</label><div class=\"sk-toggleable__content\"><pre>Pipeline(steps=[(&#x27;standardscaler&#x27;, StandardScaler()),\n",
       "                (&#x27;svc&#x27;, SVC(gamma=&#x27;auto&#x27;))])</pre></div></div></div><div class=\"sk-serial\"><div class=\"sk-item\"><div class=\"sk-estimator sk-toggleable\"><input class=\"sk-toggleable__control sk-hidden--visually\" id=\"sk-estimator-id-8\" type=\"checkbox\" ><label for=\"sk-estimator-id-8\" class=\"sk-toggleable__label sk-toggleable__label-arrow\">StandardScaler</label><div class=\"sk-toggleable__content\"><pre>StandardScaler()</pre></div></div></div><div class=\"sk-item\"><div class=\"sk-estimator sk-toggleable\"><input class=\"sk-toggleable__control sk-hidden--visually\" id=\"sk-estimator-id-9\" type=\"checkbox\" ><label for=\"sk-estimator-id-9\" class=\"sk-toggleable__label sk-toggleable__label-arrow\">SVC</label><div class=\"sk-toggleable__content\"><pre>SVC(gamma=&#x27;auto&#x27;)</pre></div></div></div></div></div></div></div>"
      ],
      "text/plain": [
       "Pipeline(steps=[('standardscaler', StandardScaler()),\n",
       "                ('svc', SVC(gamma='auto'))])"
      ]
     },
     "execution_count": 16,
     "metadata": {},
     "output_type": "execute_result"
    }
   ],
   "source": [
    "import numpy as np\n",
    "from sklearn.preprocessing import StandardScaler\n",
    "from sklearn.pipeline import make_pipeline\n",
    "from sklearn.svm import SVC\n",
    "clf = make_pipeline(StandardScaler(), SVC(gamma='auto'))\n",
    "clf.fit(X_train,y_train)"
   ]
  },
  {
   "cell_type": "code",
   "execution_count": 17,
   "id": "11c9fbf5-27cb-4a4a-ad65-90ddb15362fa",
   "metadata": {},
   "outputs": [
    {
     "name": "stdout",
     "output_type": "stream",
     "text": [
      "訓練集:  0.7511085091272051\n",
      "測試集:  0.6490758334772845\n"
     ]
    }
   ],
   "source": [
    "print('訓練集: ',clf.score(X_train,y_train))\n",
    "print('測試集: ',clf.score(X_test,y_test))"
   ]
  },
  {
   "cell_type": "code",
   "execution_count": null,
   "id": "6f57722c-82c8-4b47-b7e5-2a551274cbca",
   "metadata": {},
   "outputs": [],
   "source": []
  }
 ],
 "metadata": {
  "kernelspec": {
   "display_name": "Python 3 (ipykernel)",
   "language": "python",
   "name": "python3"
  },
  "language_info": {
   "codemirror_mode": {
    "name": "ipython",
    "version": 3
   },
   "file_extension": ".py",
   "mimetype": "text/x-python",
   "name": "python",
   "nbconvert_exporter": "python",
   "pygments_lexer": "ipython3",
   "version": "3.8.10"
  }
 },
 "nbformat": 4,
 "nbformat_minor": 5
}
